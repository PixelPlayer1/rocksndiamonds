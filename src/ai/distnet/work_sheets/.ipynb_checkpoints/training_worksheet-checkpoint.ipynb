{
 "cells": [
  {
   "cell_type": "markdown",
   "metadata": {},
   "source": [
    "# Imports"
   ]
  },
  {
   "cell_type": "code",
   "execution_count": 1,
   "metadata": {},
   "outputs": [],
   "source": [
    "import itertools\n",
    "import copy\n",
    "from collections import namedtuple\n",
    "from enum import Enum\n",
    "import math\n",
    "from functools import reduce\n",
    "from operator import mul\n",
    "\n",
    "import numpy as np\n",
    "import pandas as pd\n",
    "from sklearn.model_selection import KFold\n",
    "from sklearn.model_selection import ParameterGrid\n",
    "from scipy import stats\n",
    "import matplotlib.pyplot as plt\n",
    "import matplotlib.ticker as tkr\n",
    "import seaborn as sns\n",
    "# sns.set(style=\"darkgrid\")\n",
    "\n",
    "import torch\n",
    "import torch.nn as nn\n",
    "import torch.optim as optim\n",
    "import torch.nn.functional as F\n",
    "from torchsummary import summary\n",
    "from torch.utils.data import Dataset\n",
    "from torch.distributions.exponential import Exponential\n",
    "from torch.distributions.log_normal import LogNormal\n",
    "\n",
    "%matplotlib inline"
   ]
  },
  {
   "cell_type": "markdown",
   "metadata": {},
   "source": [
    "# Bulk Data Concatenation"
   ]
  },
  {
   "cell_type": "code",
   "execution_count": 151,
   "metadata": {},
   "outputs": [],
   "source": [
    "DATA_PATH = \"../../training_data/\"\n",
    "data_levelsets = [\"train1\", \"train2\", \"train3\", \"train4\"]\n",
    "data_levels = range(1, 990+1)\n",
    "observation_ext = \"observation.zip\"\n",
    "feature_ext = \"feature.zip\"\n",
    "\n",
    "# Add an empty row/col to the observation\n",
    "def _addRowAndCol(feature_tensor):\n",
    "    # (2,n,n) -> (2,n+1,n+1)\n",
    "    n = feature_tensor.size()[1]\n",
    "    channels = []\n",
    "    new_col = torch.zeros(n, 1)\n",
    "    new_row = torch.zeros(1, n+1)\n",
    "    for channel in feature_tensor:\n",
    "        output_tensor = torch.cat((channel, new_col), dim=1)\n",
    "        output_tensor = torch.cat((output_tensor, new_row), dim=0)\n",
    "        channels.append(output_tensor)\n",
    "    return torch.stack(channels)\n",
    "    \n",
    "\n",
    "def dataGatherOnlyObservedSolutions(extendDim=True):\n",
    "    features = []\n",
    "    observations = []\n",
    "    for levelset, levelnum in itertools.product(*[data_levelsets, data_levels]):\n",
    "        level_feature_path = '{}{}_{}_{}'.format(DATA_PATH, levelset, levelnum, feature_ext)\n",
    "        level_observation_path = '{}{}_{}_{}'.format(DATA_PATH, levelset, levelnum, observation_ext)\n",
    "        \n",
    "        level_features = torch.load(level_feature_path)\n",
    "        level_observations = torch.load(level_observation_path)\n",
    "        \n",
    "        flag = True\n",
    "        for feat, obs in zip(level_features, level_observations):\n",
    "            # Non-solution observation\n",
    "            if obs[1] != 1: continue\n",
    "            features.append(_addRowAndCol(feat.clone()) if extendDim else feat.clone())\n",
    "#             observations.append(torch.tensor([obs[0].clone()], dtype=torch.float32))\n",
    "            observations.append(obs.clone())\n",
    "            flag = False\n",
    "            \n",
    "        if flag:\n",
    "            print('{} {}'.format(levelset, levelnum))\n",
    "                \n",
    "        # Not sure if required, release tensor from ram if dataset is extremely large\n",
    "        del level_features\n",
    "        del level_observations\n",
    "                \n",
    "#     return torch.unique(torch.stack(features), dim=0), torch.unique(torch.stack(observations), dim=0)\n",
    "    return torch.stack(features), torch.stack(observations)"
   ]
  },
  {
   "cell_type": "code",
   "execution_count": 178,
   "metadata": {},
   "outputs": [],
   "source": [
    "# Data paths and extensions\n",
    "ENGINE_DATA_PATH = \"../../training_data/\"\n",
    "CONSOLIDATED_DATA_PATH = \"../consolidated_training_data/\"\n",
    "FEATURE_EXT = \"feature.zip\"\n",
    "OBSERVATION_EXT = \"observation.zip\"\n",
    "\n",
    "\n",
    "class CustomDataset(Dataset):\n",
    "\n",
    "    def __init__(self, levelsets, level_range, lbd_per_level):\n",
    "        self.level_names = []\n",
    "        self.sample_counts = []\n",
    "\n",
    "        # Set level data file names\n",
    "        for levelset in levelsets:\n",
    "            for level_num in range(1, level_range + 1):\n",
    "                self.level_names.append(levelset + '_' + str(level_num))\n",
    "\n",
    "        self.samples = []\n",
    "        self.max_runtime = 0\n",
    "\n",
    "        # Get raw feature/obs data and aggregate\n",
    "        channel_sums = torch.tensor([0.0, 0.0])\n",
    "        channel_squared_sums = torch.tensor([0.0, 0.0])\n",
    "        for level in self.level_names:\n",
    "            counts = 0\n",
    "\n",
    "            # Feature data\n",
    "            level_features = torch.load(ENGINE_DATA_PATH + level + '_' + FEATURE_EXT)\n",
    "            level_obs = torch.load(ENGINE_DATA_PATH + level + '_' + OBSERVATION_EXT)\n",
    "            for feature, obs in zip(level_features, level_obs):\n",
    "                # Found enough samples\n",
    "                if counts >= lbd_per_level:\n",
    "                    break\n",
    "                # Aggregate feature data for each channel\n",
    "                for i, channel in enumerate(feature):\n",
    "                    for row in feature:\n",
    "                        for d in row:\n",
    "                            channel_sums[i].add_(d)\n",
    "                            channel_squared_sums[i].add_(d**2)\n",
    "                            counts += 1\n",
    "                self.samples.append((level, counts))\n",
    "\n",
    "                # Look for max runtime to normalize\n",
    "                self.max_runtime = max(self.max_runtime, obs[0])\n",
    "\n",
    "            del level_features\n",
    "            del level_obs\n",
    "            self.sample_counts.append(counts)\n",
    "\n",
    "        # Calculate mean/std of features\n",
    "        N = sum(self.sample_counts)\n",
    "        self.mean = channel_sums.div_(N)\n",
    "        self.variance = channel_squared_sums.div_(N - 1) - (channel_sums**2).div_(N * (N - 1))\n",
    "        self.std = torch.sqrt(self.variance)\n",
    "\n",
    "    def __len__(self):\n",
    "        return len(self.sample_counts)\n",
    "\n",
    "    def __getitem__(self, idx):\n",
    "        if torch.is_tensor(idx):\n",
    "            idx = idx.tolist()\n",
    "\n",
    "        # Load level tensor and get feature/obs row\n",
    "        level_name, row = self.sample_counts[idx]\n",
    "        feat = torch.load(ENGINE_DATA_PATH + level_name + '_' + FEATURE_EXT)[row]\n",
    "        obs = torch.load(ENGINE_DATA_PATH + level_name + '_' + OBSERVATION_EXT)[row]\n",
    "\n",
    "        # Standardize features\n",
    "        feat.sub_(self.mean)\n",
    "        feat.div_(self.std)\n",
    "\n",
    "        # Normalize observations\n",
    "        obs.div_(self.max_runtime)\n",
    "\n",
    "        return (feat, obs)"
   ]
  },
  {
   "cell_type": "markdown",
   "metadata": {},
   "source": [
    "# Data Preprocessing and Standardizing\n",
    "- Features are standardized to mean 0 and std 1\n",
    "- Observations are normalized to range [0,1]"
   ]
  },
  {
   "cell_type": "code",
   "execution_count": 3,
   "metadata": {},
   "outputs": [],
   "source": [
    "# Standardize the 2-channel layers (channel-wise)\n",
    "def preprocessFeatures(features):\n",
    "    # features is shape [N, 2, 39, 39]\n",
    "    # permute to channel is top most axis\n",
    "    temp_feats = features.clone().permute(*[i for i in range(1, len(features.shape))], 0).contiguous()\n",
    "    # Calculate mean/std for standardization\n",
    "    mean = temp_feats.view(2, -1).mean(dim=1)\n",
    "    std = temp_feats.view(2, -1).std(dim=1)\n",
    "    # Normalize original features\n",
    "    for f in features:\n",
    "        for i, (mu, sigma) in enumerate(zip(mean.tolist(), std.tolist())):\n",
    "            f[i].sub_(mu)\n",
    "            f[i].div_(sigma)\n",
    "    \n",
    "    return features\n",
    "\n",
    "\n",
    "# Observations (times) are preprocessed by mode\n",
    "# - 1. Log transform\n",
    "# - 2. normalized to [0,1]\n",
    "# - 3. Log transofrm then noralized to [0,1]\n",
    "def preprocessObservations(observations, mode=1):\n",
    "    assert mode >= 0 and mode < 4\n",
    "#     observations = observations + 1\n",
    "    if mode == 1 or mode == 3: observations = torch.log(observations)\n",
    "    if mode == 2 or mode == 3:\n",
    "        min_ = torch.min(observations)\n",
    "#         max_ = torch.max(observations) - min_\n",
    "        max_ = torch.max(observations)\n",
    "#         observations = (observations - min_) / max_\n",
    "        observations = observations / max_\n",
    "    return observations\n",
    "\n",
    "def getDataLoader(features, observations, batch_size=64):\n",
    "    data = [(feat, obs) for feat, obs in zip(features, observations)]\n",
    "    return torch.utils.data.DataLoader(data, batch_size=batch_size, shuffle=True)"
   ]
  },
  {
   "cell_type": "markdown",
   "metadata": {},
   "source": [
    "# Models"
   ]
  },
  {
   "cell_type": "code",
   "execution_count": 4,
   "metadata": {},
   "outputs": [],
   "source": [
    "class FilterMode(Enum):\n",
    "    CONSTANT = 1\n",
    "    HALF = 2\n",
    "    DOUBLE = 3\n",
    "\n",
    "def getDisnetConfig(n_convdepth=32, kernel_size=3, n_fcdepth=64, output_size=1,\n",
    "                   drop_value=0.15, filter_mode=FilterMode.CONSTANT, single_out_filter=True):\n",
    "    return {\n",
    "        'n_convdepth'       : n_convdepth,\n",
    "        'kernel_size'       : kernel_size,\n",
    "        'n_fcdepth'         : n_fcdepth,\n",
    "        'output_size'       : output_size,\n",
    "        'drop_value'        : drop_value,\n",
    "        'filter_mode'       : filter_mode,\n",
    "        'single_out_filter' : single_out_filter\n",
    "    }\n",
    "        \n",
    "def distnetConfigToStr(config):\n",
    "    return  \"Disnet Config:\\n\" + \\\n",
    "            \"\\tFirst conv size: {}\\n\".format(config['n_convdepth']) + \\\n",
    "            \"\\tkernel size: {}\\n\".format(config['kernel_size']) + \\\n",
    "            \"\\tfilter mode: {}\\n\".format(config['filter_mode'].name) + \\\n",
    "            \"\\tsingle output filter: {}\\n\".format(config['single_out_filter']) + \\\n",
    "            \"\\tFirst FC layer size: {}\\n\".format(config['n_fcdepth']) + \\\n",
    "            \"\\tDropout p = {}\\n\".format(config['drop_value']) + \\\n",
    "            \"\\tOutput size: {}\".format(config['output_size'])\n",
    "\n",
    "class DisNetCNN(nn.Module):\n",
    "    def __init__(self, config=getDisnetConfig(), name_suffix=\"\"):\n",
    "        super().__init__()\n",
    "        \n",
    "        self.name_suffix = name_suffix\n",
    "        \n",
    "        # Model config\n",
    "        self.n_convdepth       = config['n_convdepth']\n",
    "        self.kernel_size       = config['kernel_size']\n",
    "        self.n_fcdepth         = config['n_fcdepth']\n",
    "        self.output_size       = config['output_size']\n",
    "        self.drop_value        = config['drop_value']\n",
    "        self.filter_mode       = config['filter_mode']\n",
    "        self.single_out_filter = config['single_out_filter']\n",
    "\n",
    "        n_input_channels  = 2\n",
    "        current_dim       = 40\n",
    "        current_filters   = self.n_convdepth\n",
    "        \n",
    "        # ---------- Conv Layers ----------\n",
    "        # Layer 1\n",
    "        in_channel = n_input_channels\n",
    "        out_channel = self.n_convdepth\n",
    "        self.layer1 = nn.Sequential(\n",
    "            nn.Conv2d(in_channel, out_channel, kernel_size=self.kernel_size, stride=1, padding=1),\n",
    "            nn.ReLU(),\n",
    "            nn.BatchNorm2d(out_channel)\n",
    "        )\n",
    "        current_dim = current_dim - self.kernel_size + (2*1) + 1\n",
    "        \n",
    "        # Layer 2\n",
    "        in_channel = out_channel\n",
    "        out_channel = self.get_channel_transform(out_channel)\n",
    "        self.layer2 = nn.Sequential(\n",
    "            nn.Conv2d(in_channel, out_channel, kernel_size=self.kernel_size, stride=1, padding=1),\n",
    "            nn.ReLU(),\n",
    "            nn.BatchNorm2d(out_channel)\n",
    "        )\n",
    "        current_dim = current_dim - self.kernel_size + (2*1) + 1\n",
    "        \n",
    "        # Layer 3\n",
    "        in_channel = out_channel\n",
    "        out_channel = self.get_channel_transform(out_channel)\n",
    "        ks_last = 1 if self.single_out_filter else self.kernel_size \n",
    "        padding_last = 0 if self.single_out_filter else 1\n",
    "        self.layer3 = nn.Sequential(\n",
    "            nn.Conv2d(in_channel, out_channel, kernel_size=ks_last, stride=1, padding=padding_last),\n",
    "            nn.ReLU(),\n",
    "            nn.BatchNorm2d(out_channel)\n",
    "        )\n",
    "        current_dim = current_dim - ks_last + (2*padding_last) + 1\n",
    "        \n",
    "        # ---------- FC Layers ----------\n",
    "        in_channel = out_channel * current_dim * current_dim\n",
    "        out_channel = self.n_fcdepth\n",
    "        self.layer4 = nn.Sequential(\n",
    "            nn.Linear(in_channel, out_channel),\n",
    "            nn.ReLU(),\n",
    "            nn.Dropout2d(self.drop_value)\n",
    "        )\n",
    "        \n",
    "        in_channel = out_channel\n",
    "        out_channel = out_channel // 2\n",
    "        self.layer5 = nn.Sequential(\n",
    "            nn.Linear(in_channel, out_channel),\n",
    "            nn.ReLU(),\n",
    "            nn.Dropout2d(self.drop_value)\n",
    "        )\n",
    "        \n",
    "        in_channel = out_channel\n",
    "        self.layer_end = nn.Sequential(\n",
    "            nn.Linear(in_channel, self.output_size),\n",
    "            nn.ReLU()\n",
    "        )\n",
    "    \n",
    "    def forward(self, x):\n",
    "        x = self.layer1(x)\n",
    "        x = self.layer2(x)\n",
    "        x = self.layer3(x)\n",
    "        x = x.view(-1, self.num_flat_features(x))\n",
    "        x = self.layer4(x)\n",
    "        x = self.layer5(x)\n",
    "        x = self.layer_end(x)\n",
    "        return x\n",
    "    \n",
    "    def get_channel_transform(self, n_channels):\n",
    "        multiplier = {FilterMode.CONSTANT : 1, \n",
    "                      FilterMode.HALF : 0.5,\n",
    "                      FilterMode.DOUBLE : 2\n",
    "                     }\n",
    "        return int(multiplier[self.filter_mode] * n_channels)\n",
    "    \n",
    "    def num_flat_features(self, x):\n",
    "        size = x.size()[1:]  # all dimensions except the batch dimension\n",
    "        num_features = 1\n",
    "        for s in size:\n",
    "            num_features *= s\n",
    "        return num_features\n",
    "    \n",
    "    def toStr(self):\n",
    "        return \"DisNet\" + \" \" + self.name_suffix\n",
    "    "
   ]
  },
  {
   "cell_type": "code",
   "execution_count": 5,
   "metadata": {},
   "outputs": [],
   "source": [
    "class FCN(nn.Module):\n",
    "    def __init__(self, fc1_size=64, fc2_size=32, out_size=1, name_suffix=\"\"):\n",
    "        super().__init__()\n",
    "        self.name_suffix=name_suffix\n",
    "        self.dropout = nn.Dropout2d(0.1)\n",
    "        \n",
    "        self.fc1 = nn.Linear(40*40*2, fc1_size)\n",
    "        torch.nn.init.xavier_uniform_(self.fc1.weight,gain=nn.init.calculate_gain('relu'))\n",
    "        self.fc2 = nn.Linear(fc1_size, fc2_size)\n",
    "        torch.nn.init.xavier_uniform_(self.fc2.weight,gain=nn.init.calculate_gain('relu'))\n",
    "        self.fc3 = nn.Linear(fc2_size, out_size)\n",
    "        torch.nn.init.xavier_uniform_(self.fc3.weight,gain=nn.init.calculate_gain('relu'))\n",
    "    \n",
    "    def forward(self, x):\n",
    "        x = x.view(-1, self.num_flat_features(x))\n",
    "        x = F.relu(self.fc1(x))\n",
    "        x = self.dropout(F.relu(self.fc2(x)))\n",
    "        x = self.dropout(F.relu(self.fc3(x)))\n",
    "        return x\n",
    "    \n",
    "    def num_flat_features(self, x):\n",
    "        size = x.size()[1:]  # all dimensions except the batch dimension\n",
    "        num_features = 1\n",
    "        for s in size:\n",
    "            num_features *= s\n",
    "        return num_features\n",
    "    \n",
    "    def toStr(self):\n",
    "        return \"FCN\" + self.name_suffix"
   ]
  },
  {
   "cell_type": "code",
   "execution_count": 6,
   "metadata": {},
   "outputs": [],
   "source": [
    "def weights_init(m):\n",
    "    if isinstance(m, nn.Conv2d) or isinstance(m, nn.Linear):\n",
    "        torch.nn.init.xavier_uniform_(m.weight.data,gain=nn.init.calculate_gain('relu'))\n",
    "        m.bias.data.zero_()"
   ]
  },
  {
   "cell_type": "code",
   "execution_count": 7,
   "metadata": {},
   "outputs": [],
   "source": [
    "def count_parameters(model):\n",
    "    return sum(p.numel() for p in model.parameters() if p.requires_grad)"
   ]
  },
  {
   "cell_type": "markdown",
   "metadata": {},
   "source": [
    "# Custom Loss Functions"
   ]
  },
  {
   "cell_type": "code",
   "execution_count": 8,
   "metadata": {},
   "outputs": [],
   "source": [
    "EPSILON = 1e-5\n",
    "def expo_loss(prediction, target):\n",
    "    scale = prediction + EPSILON\n",
    "    scale = 1.0/scale\n",
    "    log_scale = torch.log(scale)\n",
    "    ll = log_scale - scale*target\n",
    "    return torch.mean(-ll)"
   ]
  },
  {
   "cell_type": "code",
   "execution_count": 37,
   "metadata": {},
   "outputs": [],
   "source": [
    "EPSILON = 1e-5\n",
    "def lognormal_loss(prediction, target):\n",
    "    LOG_2PI = 1.837877066\n",
    "    HALF = 0.5\n",
    "    mu = prediction[:,0:1] + EPSILON\n",
    "    sigma_squared = prediction[:,1:2] + EPSILON\n",
    "    target += EPSILON\n",
    "    \n",
    "    log_mu = torch.log(mu)\n",
    "    log_sigma_squared = torch.log(sigma_squared)\n",
    "    log_target = torch.log(target)\n",
    "    \n",
    "    help1 = ((log_target - log_mu)**2) / (2*sigma_squared)\n",
    "    lh = - log_target - HALF*log_sigma_squared - HALF*LOG_2PI - help1\n",
    "#     print(-lh)\n",
    "    return torch.mean(-lh)"
   ]
  },
  {
   "cell_type": "code",
   "execution_count": 10,
   "metadata": {},
   "outputs": [],
   "source": [
    "EPSILON = 1e-5\n",
    "def lognormal_scipy_loss(prediction, target):\n",
    "    with torch.no_grad():\n",
    "        mu = prediction[:,0] + EPSILON\n",
    "        sigma_squared = prediction[:,1] + EPSILON\n",
    "        target = target[:,0] + EPSILON\n",
    "\n",
    "        nll = [] \n",
    "        for i, (m, s, t) in enumerate(zip(mu, sigma_squared, target)):\n",
    "            nll.append(-(stats.lognorm.logpdf(t.item(), np.sqrt(s.item()), loc=0, scale=m.item())))\n",
    "    return torch.mean(torch.tensor([nll], dtype=torch.float32, requires_grad=True))"
   ]
  },
  {
   "cell_type": "code",
   "execution_count": 172,
   "metadata": {},
   "outputs": [],
   "source": [
    "def lognormal_torch_loss(prediction, obs):\n",
    "#     lognormal_loss(prediction.clone(), target.clone())\n",
    "    mu = prediction[:,0] + EPSILON\n",
    "    sigma_squared = prediction[:,1] + EPSILON\n",
    "    target = obs[:,0] + EPSILON\n",
    "    sol_flag = obs[:, 1]\n",
    "\n",
    "    nll = torch.zeros([prediction.shape[0]], dtype=torch.float32)\n",
    "    for i, (m, s, t) in enumerate(zip(mu, sigma_squared, target)):\n",
    "        pdf = LogNormal(torch.log(m), torch.sqrt(s))\n",
    "        nll[i] = -pdf.log_prob(t) if sol_flag[i] else -torch.log((1.0 - pdf.cdf(t)))\n",
    "\n",
    "    return torch.mean(nll)"
   ]
  },
  {
   "cell_type": "code",
   "execution_count": 12,
   "metadata": {},
   "outputs": [],
   "source": [
    "def invgauss_loss(prediction, target):\n",
    "    TWO_PI = 6.2831853\n",
    "    HALF = 0.5\n",
    "    mu = prediction[:,0] + EPSILON\n",
    "    lambd = prediction[:,1] + EPSILON\n",
    "    target = target[:,0] + EPSILON\n",
    "    \n",
    "    help1 = lambd*((target - mu)**2) / (2*target*(mu**2))\n",
    "    lh = HALF*torch.log(lambd) - HALF*torch.log(TWO_PI*(target**3)) - help1\n",
    "    \n",
    "    return torch.mean(-lh)"
   ]
  },
  {
   "cell_type": "markdown",
   "metadata": {},
   "source": [
    "# Training Options and Data Formatting"
   ]
  },
  {
   "cell_type": "code",
   "execution_count": 13,
   "metadata": {},
   "outputs": [],
   "source": [
    "class TrainingOptions(object):\n",
    "    def __init__(self, n_epochs=100, batch_size=64, loss_fn=nn.MSELoss(), start_rate=1e-3, end_rate=1e-5,\n",
    "                clip_gradient_norm=1e-2, verbose=False):\n",
    "        self.n_epochs = n_epochs\n",
    "        self.batch_size = batch_size\n",
    "        self.loss_fn = loss_fn\n",
    "        self.start_rate = start_rate\n",
    "        self.end_rate = end_rate\n",
    "        self.clip_gradient_norm = clip_gradient_norm\n",
    "        self.verbose = verbose\n",
    "        \n",
    "        \n",
    "def getTrainingConfig(n_epochs=100, batch_size=32, loss_fn=nn.MSELoss(), start_rate=1e-3, end_rate=1e-5,\n",
    "                      clip_gradient_norm=1e-2, verbose=False):\n",
    "    return {\n",
    "        'n_epochs'           : n_epochs,\n",
    "        'batch_size'         : batch_size,\n",
    "        'loss_fn'            : loss_fn,\n",
    "        'start_rate'         : start_rate,\n",
    "        'end_rate'           : end_rate,\n",
    "        'clip_gradient_norm' : clip_gradient_norm,\n",
    "        'verbose'            : verbose\n",
    "    }\n",
    "\n",
    "def trainingConfigToStr(config):\n",
    "    return  \"Training Config:\\n\" + \\\n",
    "            \"\\tNumber of Epochs: {}\\n\".format(config['n_epochs']) + \\\n",
    "            \"\\tBatch size: {}\\n\".format(config['batch_size']) + \\\n",
    "            \"\\tLoss function: {}\\n\".format(config['loss_fn'].__name__) + \\\n",
    "            \"\\tStart rate: {}\\n\".format(config['start_rate']) + \\\n",
    "            \"\\tEnd rate: {}\\n\".format(config['end_rate']) + \\\n",
    "            \"\\tGradient Clipping: {}\\n\".format(config['clip_gradient_norm']) + \\\n",
    "            \"\\tVerbose: {}\".format(config['verbose'])"
   ]
  },
  {
   "cell_type": "code",
   "execution_count": 14,
   "metadata": {},
   "outputs": [],
   "source": [
    "DF_COLUMNS = ['Epoch', 'Loss', 'Run Type', 'Model']\n",
    "def getEmptyDataFrame():\n",
    "    return pd.DataFrame(columns=DF_COLUMNS)"
   ]
  },
  {
   "cell_type": "markdown",
   "metadata": {},
   "source": [
    "# Training Loop"
   ]
  },
  {
   "cell_type": "code",
   "execution_count": 15,
   "metadata": {},
   "outputs": [],
   "source": [
    "# Optimizers\n",
    "# - learning rate start 1e-3 to end 1e-5 [done]\n",
    "# - gradient clipping [done]\n",
    "# - tanh activation function\n",
    "# - SGD [done]\n",
    "# - batch normalization (as a layer)\n",
    "# - L2 regularization of 1e-4\n",
    "def train(model, device, train_loader, validation_loader, options=getTrainingConfig()):  \n",
    "    \"\"\"\n",
    "    Args:\n",
    "        model: Model structure to train\n",
    "        device: Where to send data/model for training\n",
    "        train_loader (torch.DataLoader) : Dataloader for training data\n",
    "        validation_loader (torch.DataLoader) : Dataloader for validation data\n",
    "        options (TrainingOptions): Options for training\n",
    "        \n",
    "    Returns:\n",
    "        DataFrame of loss data during training with testing every epoch\n",
    "    \"\"\"\n",
    "    # Reset model and send model to device\n",
    "    model.apply(weights_init)\n",
    "    model.to(device)\n",
    "    \n",
    "    # Training config\n",
    "    start_rate = options['start_rate']\n",
    "    end_rate = options['end_rate']\n",
    "    n_epochs = options['n_epochs']\n",
    "    loss_fn = options['loss_fn']\n",
    "    clip_gradient_norm = options['clip_gradient_norm']\n",
    "    verbose = options['verbose']\n",
    "    \n",
    "    # Optimizer and scheduler\n",
    "    optimizer = optim.SGD(model.parameters(), lr=start_rate, weight_decay=0.01)\n",
    "    decay_rate = np.exp(np.log(end_rate / start_rate) / n_epochs)\n",
    "    lr_scheduler = optim.lr_scheduler.ExponentialLR(optimizer=optimizer, gamma=decay_rate)\n",
    "    \n",
    "    df_losses = getEmptyDataFrame()\n",
    "    for epoch in range(n_epochs):\n",
    "        training_loss = 0.0\n",
    "        model.train()\n",
    "        for i, data in enumerate(train_loader):\n",
    "            # get the inputs; data is a list of [features, runtime]\n",
    "            inputs, rts = data\n",
    "            inputs, rts = inputs.to(device), rts.to(device)\n",
    "            \n",
    "            # zero the parameter gradients\n",
    "            optimizer.zero_grad()\n",
    "            \n",
    "            # Propogate input to model and calculate loss\n",
    "            outputs = model(inputs)\n",
    "            loss = loss_fn(outputs, rts)\n",
    "#             return\n",
    "            \n",
    "            # Add l2 loss\n",
    "            \n",
    "            # Propogate loss backwards and step optimizer\n",
    "            loss.backward()\n",
    "#             ones = torch.ones([loss.shape[0], 1], dtype=torch.float64, device=device, requires_grad=True)\n",
    "#             loss.backward(ones)\n",
    "\n",
    "            # Clip the gradients\n",
    "            if clip_gradient_norm != None:\n",
    "                torch.nn.utils.clip_grad_norm_(model.parameters(), clip_gradient_norm)\n",
    "            \n",
    "            # Step optimizer\n",
    "            optimizer.step()\n",
    "            \n",
    "#             training_loss += torch.mean(loss).item()\n",
    "            training_loss += loss.item()\n",
    "            \n",
    "        # Get validation loss\n",
    "        validation_loss = 0.0\n",
    "        model.eval()\n",
    "        with torch.no_grad():\n",
    "            for i, data in enumerate(validation_loader):\n",
    "                inputs, rts = data\n",
    "                inputs, rts = inputs.to(device), rts.to(device)\n",
    "                outputs = model(inputs)\n",
    "                loss = loss_fn(outputs, rts)\n",
    "#                 validation_loss += torch.mean(loss).item()\n",
    "#                 validation_loss += loss.item() / inputs.size(0)\n",
    "                validation_loss += loss.item()\n",
    "            \n",
    "        # Store training and validation loss\n",
    "        train_row = (epoch, training_loss / len(train_loader), 'Train', model.toStr())\n",
    "        valid_row = (epoch, validation_loss / len(validation_loader), 'Test', model.toStr())\n",
    "        df_losses = df_losses.append(pd.Series(train_row, index=df_losses.columns), ignore_index=True)\n",
    "        df_losses = df_losses.append(pd.Series(valid_row, index=df_losses.columns), ignore_index=True)\n",
    "        if verbose and epoch % 10 == 9: \n",
    "            print(\"Epoch: {:>4d}, Training Loss {:>18,.4f}, Validation Loss {:>18,.4f}\".format(epoch+1, float(train_row[1]), float(valid_row[1])))\n",
    "        \n",
    "        # Update learning rate\n",
    "        lr_scheduler.step()\n",
    "    return df_losses, model"
   ]
  },
  {
   "cell_type": "markdown",
   "metadata": {},
   "source": [
    "# Testing and Validation"
   ]
  },
  {
   "cell_type": "code",
   "execution_count": 16,
   "metadata": {},
   "outputs": [
    {
     "ename": "NameError",
     "evalue": "name 'default_options' is not defined",
     "output_type": "error",
     "traceback": [
      "\u001b[0;31m---------------------------------------------------------------------------\u001b[0m",
      "\u001b[0;31mNameError\u001b[0m                                 Traceback (most recent call last)",
      "\u001b[0;32m<ipython-input-16-807e8e0614b7>\u001b[0m in \u001b[0;36m<module>\u001b[0;34m\u001b[0m\n\u001b[0;32m----> 1\u001b[0;31m \u001b[0;32mdef\u001b[0m \u001b[0mtestModel\u001b[0m\u001b[0;34m(\u001b[0m\u001b[0mmodel\u001b[0m\u001b[0;34m,\u001b[0m \u001b[0mdevice\u001b[0m\u001b[0;34m,\u001b[0m \u001b[0mtest_loader\u001b[0m\u001b[0;34m,\u001b[0m \u001b[0moptions\u001b[0m\u001b[0;34m=\u001b[0m\u001b[0mdefault_options\u001b[0m\u001b[0;34m)\u001b[0m\u001b[0;34m:\u001b[0m\u001b[0;34m\u001b[0m\u001b[0;34m\u001b[0m\u001b[0m\n\u001b[0m\u001b[1;32m      2\u001b[0m     \u001b[0mtest_loss\u001b[0m \u001b[0;34m=\u001b[0m \u001b[0;36m0.0\u001b[0m\u001b[0;34m\u001b[0m\u001b[0;34m\u001b[0m\u001b[0m\n\u001b[1;32m      3\u001b[0m \u001b[0;34m\u001b[0m\u001b[0m\n\u001b[1;32m      4\u001b[0m     \u001b[0;31m# Don't need to backprop during testing\u001b[0m\u001b[0;34m\u001b[0m\u001b[0;34m\u001b[0m\u001b[0;34m\u001b[0m\u001b[0m\n\u001b[1;32m      5\u001b[0m     \u001b[0;32mwith\u001b[0m \u001b[0mtorch\u001b[0m\u001b[0;34m.\u001b[0m\u001b[0mno_grad\u001b[0m\u001b[0;34m(\u001b[0m\u001b[0;34m)\u001b[0m\u001b[0;34m:\u001b[0m\u001b[0;34m\u001b[0m\u001b[0;34m\u001b[0m\u001b[0m\n",
      "\u001b[0;31mNameError\u001b[0m: name 'default_options' is not defined"
     ]
    }
   ],
   "source": [
    "def testModel(model, device, test_loader, options=default_options):\n",
    "    test_loss = 0.0\n",
    "    \n",
    "    # Don't need to backprop during testing\n",
    "    with torch.no_grad():\n",
    "        for data in test_loader:\n",
    "             # get the inputs; data is a list of [features, runtime]\n",
    "            inputs, rts = data\n",
    "            inputs, rts = inputs.to(device), rts.to(device) \n",
    "            outputs = model(inputs)\n",
    "            loss = options.loss_fn(outputs, rts)\n",
    "            test_loss += loss.item()\n",
    "            \n",
    "    return test_loss"
   ]
  },
  {
   "cell_type": "code",
   "execution_count": 17,
   "metadata": {},
   "outputs": [],
   "source": [
    "def kfoldValidation(model, features, observations, options, num_folds=5):\n",
    "    \"\"\"\n",
    "    Args:\n",
    "        model: Model structure to train\n",
    "        device: Where to send data/model for training\n",
    "        features (torch.tensor) : Tensor of features already preprocessed\n",
    "        observations (torch.tensor) : Tensor of observations already preprocessed\n",
    "        options (TrainingOptions): Options for training\n",
    "        num_folds (int): Number of folds to perform validation\n",
    "        \n",
    "    Returns:\n",
    "        Dataframe of validation loss data\n",
    "    \"\"\"\n",
    "    device = torch.device(\"cuda:0\" if torch.cuda.is_available() else \"cpu\")\n",
    "    kf = KFold(n_splits=num_folds, shuffle=True, random_state=0)\n",
    "    \n",
    "    loss_data = []\n",
    "    for fold_count, (training_idx, test_idx) in enumerate(kf.split(features)):\n",
    "        print('Fold {}'.format(fold_count+1))\n",
    "        \n",
    "        # Split data\n",
    "        train_features, test_features = features[training_idx,:], features[test_idx,:]\n",
    "        train_observations, test_observations = observations[training_idx,:], observations[test_idx,:]\n",
    "        \n",
    "        # Create dataloaders\n",
    "        batch_size = options['batch_size']\n",
    "        train_loader = getDataLoader(train_features, train_observations,batch_size)\n",
    "        test_loader = getDataLoader(test_features, test_observations, batch_size)\n",
    "        \n",
    "        # Train model\n",
    "        df_run, trained_model = train(model, device, train_loader, test_loader, options)\n",
    "        loss_data.append(df_run)\n",
    "\n",
    "        # Test \n",
    "#         rest_loss = testModel(trained_model, device, test_loader, options)\n",
    "                \n",
    "#         # Save avg loss\n",
    "#         loss_data.append(run_loss)\n",
    "#         test_losses.append(test_loss / len(test_loader))\n",
    "        \n",
    "    return pd.concat(loss_data)"
   ]
  },
  {
   "cell_type": "code",
   "execution_count": 18,
   "metadata": {},
   "outputs": [],
   "source": [
    "def runGridSearch(model_base_config, training_base_config, param_grid, \n",
    "                  features, observations, num_folds=5, start_msg = \"\"):\n",
    "    \"\"\"\n",
    "    Args:\n",
    "        model: Model structure to train\n",
    "        features (torch.tensor) : Tensor of features already preprocessed\n",
    "        observations (torch.tensor) : Tensor of observations already preprocessed\n",
    "        options (TrainingOptions): Options for training\n",
    "        num_folds (int): Number of folds to perform validation\n",
    "        \n",
    "    Returns:\n",
    "        Dataframe of validation loss data\n",
    "    \"\"\"\n",
    "    SEP = \"------------------\"\n",
    "    # Run gridsearch\n",
    "    results = []\n",
    "    output_file = open(\"kfold_run_\" + start_msg + \".txt\", 'w')\n",
    "    output_file.write('{}\\n'.format(start_msg))\n",
    "    \n",
    "    # Count number of params combinations\n",
    "    total_combs = reduce(mul, [len(i) for i in param_grid.values()], 1)\n",
    "    \n",
    "    for i, params in enumerate(ParameterGrid(param_grid)):\n",
    "        current_model_config = copy.deepcopy(model_base_config)\n",
    "        current_training_config = copy.deepcopy(training_base_config)\n",
    "        \n",
    "        # Set current config\n",
    "        for k, v in params.items():\n",
    "            if k in current_model_config:\n",
    "                current_model_config[k] = v\n",
    "            else:\n",
    "                current_training_config[k] = v\n",
    "\n",
    "        output_size = 1 if current_training_config['loss_fn'] == expo_loss else 2\n",
    "        current_model_config['output_size'] = output_size\n",
    "        current_training_config['end_rate'] = current_training_config['start_rate'] / 100\n",
    "                \n",
    "        print(SEP)\n",
    "        output_file.write('{}\\n'.format(SEP))\n",
    "        print('Step {:3} of {:3}'.format(i+1, total_combs))\n",
    "        output_file.write('Step {:3} of {:3}\\n'.format(i+1, total_combs))\n",
    "        print(distnetConfigToStr(current_model_config))\n",
    "        output_file.write('{}\\n'.format(distnetConfigToStr(current_model_config)))\n",
    "        print(trainingConfigToStr(current_training_config))\n",
    "        output_file.write('{}\\n'.format(trainingConfigToStr(current_training_config)))\n",
    "        model = DisNetCNN(current_model_config, str(i+1))\n",
    "\n",
    "        # Run K-fold\n",
    "        kfold_df_ = kfoldValidation(model, features, observations, current_training_config, num_folds)\n",
    "        kfold_df_.to_pickle('df_{}_{}.pkl'.format(start_msg, i+1))\n",
    "        \n",
    "    output_file.close()"
   ]
  },
  {
   "cell_type": "markdown",
   "metadata": {},
   "source": [
    "# Graphing"
   ]
  },
  {
   "cell_type": "code",
   "execution_count": 19,
   "metadata": {},
   "outputs": [],
   "source": [
    "def graphCompareModelLosses(data, dep_axis_title, graph_title, output_name):\n",
    "    \"\"\"\n",
    "    Args:\n",
    "        data (list): List of dataframe loss data for each model\n",
    "        graph_title (str): string name of graph title\n",
    "        output_name (str): string name of the output png (not including extension)\n",
    "        \n",
    "    Outputs:\n",
    "        Seaborn plot of loss data for training/testing the models\n",
    "    \"\"\"\n",
    "    # Create dataframes for data input and join\n",
    "    df = getEmptyDataFrame()\n",
    "    \n",
    "    # Join dataframes\n",
    "    for d in data:\n",
    "        df = df.append(d, ignore_index=True)\n",
    "\n",
    "    sns.set_context(\"paper\", rc={\"font.size\":20,\"axes.titlesize\":20,\"axes.labelsize\":20, \n",
    "                                 'xtick.labelsize': 15, 'ytick.labelsize': 15, 'legend.fontsize': 20}) \n",
    "    fig, ax = plt.subplots()\n",
    "    fig.set_size_inches(11.7, 8.27)\n",
    "    ax.set_title(graph_title)\n",
    "#     ax.set\n",
    "    g = sns.lineplot(x=\"Epoch\", y=\"Loss\", hue=\"Model\", style=\"Run Type\", data=df)\n",
    "    g.set(ylabel=dep_axis_title)\n",
    "    ax.get_yaxis().set_major_formatter(\n",
    "    tkr.FuncFormatter(lambda x, p: format(int(x), ',')))\n",
    "    ax.legend(bbox_to_anchor=(1.1, 1.05))\n",
    "    fig.savefig(output_name + '.png', facecolor=fig.get_facecolor())"
   ]
  },
  {
   "cell_type": "code",
   "execution_count": 20,
   "metadata": {},
   "outputs": [],
   "source": [
    "def graphObservations(data):\n",
    "    sns.distplot(data)"
   ]
  },
  {
   "cell_type": "markdown",
   "metadata": {},
   "source": [
    "# Statistical Model Checks"
   ]
  },
  {
   "cell_type": "code",
   "execution_count": null,
   "metadata": {},
   "outputs": [],
   "source": []
  },
  {
   "cell_type": "markdown",
   "metadata": {},
   "source": [
    "# Main Scripts"
   ]
  },
  {
   "cell_type": "markdown",
   "metadata": {},
   "source": [
    "### Single Model Gridsearch\n"
   ]
  },
  {
   "cell_type": "code",
   "execution_count": null,
   "metadata": {},
   "outputs": [],
   "source": [
    "features = torch.load('train_nokey_only_solution_feats.pt')\n",
    "observations = torch.load('train_nokey_only_solution_obs.pt')\n",
    "device = torch.device(\"cuda:0\" if torch.cuda.is_available() else \"cpu\")\n",
    "\n",
    "# preprocess\n",
    "features = preprocessFeatures(features)\n",
    "observations = preprocessObservations(observations, mode=2)\n",
    "\n",
    "# Set default model config\n",
    "model_base_config = getDisnetConfig(kernel_size=3, n_fcdepth=32, drop_value=0.1, single_out_filter=True)\n",
    "    \n",
    "# Set default training config\n",
    "training_base_config = getTrainingConfig(n_epochs=150, batch_size=32, loss_fn=lognormal_torch_loss, verbose=True)\n",
    "\n",
    "param_grid = {'start_rate' : [1e-2, 1e-3],\n",
    "              'n_convdepth' : [8, 16, 32],\n",
    "              'clip_gradient_nodem' : [1e-1, 1e-2, 1e-3]\n",
    "             }\n",
    "\n",
    "runGridSearch(model_base_config, training_base_config, param_grid, features, observations, num_folds=5, start_msg=\"mode2_lognorm_const\")"
   ]
  },
  {
   "cell_type": "markdown",
   "metadata": {},
   "source": [
    "### Single model run"
   ]
  },
  {
   "cell_type": "code",
   "execution_count": 100,
   "metadata": {},
   "outputs": [
    {
     "name": "stdout",
     "output_type": "stream",
     "text": [
      "Epoch:   10, Training Loss         2,770.1497, Validation Loss            -4.5395\n",
      "Epoch:   20, Training Loss            -4.5964, Validation Loss            -4.7822\n",
      "Epoch:   30, Training Loss            -4.7010, Validation Loss            -4.8529\n",
      "Epoch:   40, Training Loss            -4.6979, Validation Loss            -4.8585\n",
      "Epoch:   50, Training Loss            -4.7245, Validation Loss            -4.8710\n",
      "Epoch:   60, Training Loss            -4.7286, Validation Loss            -4.8672\n",
      "Epoch:   70, Training Loss            -4.6959, Validation Loss            -4.8664\n",
      "Epoch:   80, Training Loss            -4.7288, Validation Loss            -4.8758\n",
      "Epoch:   90, Training Loss            -4.7405, Validation Loss            -4.8710\n",
      "Epoch:  100, Training Loss            -4.7308, Validation Loss            -4.8681\n"
     ]
    }
   ],
   "source": [
    "# Get data\n",
    "features = torch.load('../consolidated_training_data/train_nokey_only_solution_feats.pt')\n",
    "observations = torch.load('../consolidated_training_data/train_nokey_only_solution_obs.pt')\n",
    "device = torch.device(\"cuda:0\" if torch.cuda.is_available() else \"cpu\")\n",
    "\n",
    "# preprocess\n",
    "features = preprocessFeatures(features)\n",
    "observations = preprocessObservations(observations, mode=2)\n",
    "\n",
    "# Split into train/test\n",
    "np.random.seed(0)\n",
    "indices = np.random.permutation(features.shape[0])\n",
    "num_train = int(len(indices) * 0.8)\n",
    "training_idx, validation_idx = indices[:num_train], indices[num_train:]\n",
    "train_features, validation_features = features[training_idx,:], features[validation_idx,:]\n",
    "train_observations, validation_observations = observations[training_idx,:], observations[validation_idx,:]\n",
    "\n",
    "# Train config\n",
    "training_config = getTrainingConfig(n_epochs=100, batch_size=32, loss_fn=lognormal_loss, verbose=True,\n",
    "                                   start_rate=1e-2, end_rate=1e-5, clip_gradient_norm=1e-2)\n",
    "\n",
    "# Create dataloaders\n",
    "batch_size = training_config['batch_size']\n",
    "train_loader = getDataLoader(train_features, train_observations, batch_size)\n",
    "test_loader = getDataLoader(validation_features, validation_observations, batch_size)\n",
    "\n",
    "# Model config\n",
    "output_size = 1 if training_config['loss_fn'] == expo_loss else 2\n",
    "# model_config = getDisnetConfig(n_convdepth=32, kernel_size=3, n_fcdepth=32, drop_value=0.1, \n",
    "#                                single_out_filter=True, output_size=output_size, filter_mode=FilterMode.HALF)\n",
    "model_config = getDisnetConfig(n_convdepth=8, kernel_size=3, n_fcdepth=32, drop_value=0.1, \n",
    "                               single_out_filter=True, output_size=output_size, filter_mode=FilterMode.DOUBLE)\n",
    "model = DisNetCNN(model_config)\n",
    "\n",
    "# Train\n",
    "_, trained_model = train(model, device, train_loader, test_loader, training_config)"
   ]
  },
  {
   "cell_type": "code",
   "execution_count": 74,
   "metadata": {},
   "outputs": [
    {
     "name": "stdout",
     "output_type": "stream",
     "text": [
      "mu=  0.000000 sigmasq=  6.963083 \t t=  0.000035\t -llh= -7.958411\t D=  0.682339 p=  0.635323\n",
      "mu=  0.000000 sigmasq=  6.553877 \t t=  0.000035\t -llh= -7.978566\t D=  0.687519 p=  0.624962\n",
      "mu=  0.000000 sigmasq=  6.357738 \t t=  0.012845\t -llh=  1.520323\t D=  0.997737 p=  0.004527\n",
      "mu=  0.000000 sigmasq=  9.136475 \t t=  0.000035\t -llh= -7.861175\t D=  0.660569 p=  0.678862\n",
      "mu=  0.000000 sigmasq=  5.454843 \t t=  0.060767\t -llh=  5.924248\t D=  0.999904 p=  0.000191\n",
      "mu=  0.000000 sigmasq=  4.942309 \t t=  0.001503\t -llh= -2.227105\t D=  0.987926 p=  0.024148\n",
      "mu=  0.000000 sigmasq=  6.200049 \t t=  0.000035\t -llh= -7.996480\t D=  0.692372 p=  0.615256\n",
      "mu=  0.000000 sigmasq=  7.383520 \t t=  0.000227\t -llh= -5.749145\t D=  0.874805 p=  0.250390\n",
      "mu=  0.000000 sigmasq=  4.936653 \t t=  0.000035\t -llh= -8.063788\t D=  0.713363 p=  0.573274\n",
      "mu=  0.000000 sigmasq=  8.488375 \t t=  0.001887\t -llh= -2.658055\t D=  0.963965 p=  0.072070\n",
      "mu=  0.000000 sigmasq=  6.572699 \t t=  0.000035\t -llh= -7.977625\t D=  0.687271 p=  0.625458\n",
      "mu=  0.000000 sigmasq=  6.493594 \t t=  0.000175\t -llh= -6.087112\t D=  0.869213 p=  0.261574\n",
      "mu=  0.000000 sigmasq=  7.237732 \t t=  0.000035\t -llh= -7.945225\t D=  0.679093 p=  0.641814\n",
      "mu=  0.000000 sigmasq=  4.216810 \t t=  0.000245\t -llh= -5.394315\t D=  0.940268 p=  0.119464\n",
      "mu=  0.000000 sigmasq=  4.420000 \t t=  0.000035\t -llh= -8.092318\t D=  0.724160 p=  0.551680\n",
      "mu=  0.000000 sigmasq=  7.182368 \t t=  0.001486\t -llh= -2.854831\t D=  0.968981 p=  0.062038\n",
      "mu=  0.000000 sigmasq=  6.301455 \t t=  0.003076\t -llh= -1.334570\t D=  0.988759 p=  0.022482\n",
      "mu=  0.000000 sigmasq=  8.215818 \t t=  0.000035\t -llh= -7.900428\t D=  0.668798 p=  0.662403\n",
      "mu=  0.000000 sigmasq=  6.386516 \t t=  0.000035\t -llh= -7.986983\t D=  0.689768 p=  0.620464\n",
      "mu=  0.000000 sigmasq=  6.540766 \t t=  0.005295\t -llh= -0.372096\t D=  0.992905 p=  0.014190\n",
      "mu=  0.000000 sigmasq=  7.221079 \t t=  0.005226\t -llh= -0.630877\t D=  0.990073 p=  0.019855\n",
      "mu=  0.000000 sigmasq=  8.785567 \t t=  0.000035\t -llh= -7.875819\t D=  0.663562 p=  0.672876\n",
      "mu=  0.000000 sigmasq=  5.431885 \t t=  0.000035\t -llh= -8.036851\t D=  0.704348 p=  0.591304\n",
      "mu=  0.000000 sigmasq=  4.489258 \t t=  0.001555\t -llh= -1.945683\t D=  0.991390 p=  0.017220\n",
      "mu=  0.000000 sigmasq=  6.193124 \t t=  0.000035\t -llh= -7.996835\t D=  0.692471 p=  0.615059\n",
      "mu=  0.000000 sigmasq=  7.041024 \t t=  0.000035\t -llh= -7.954641\t D=  0.681400 p=  0.637201\n",
      "mu=  0.000000 sigmasq=  6.307782 \t t=  0.000647\t -llh= -4.100545\t D=  0.951545 p=  0.096910\n",
      "mu=  0.000000 sigmasq=  5.075915 \t t=  0.002569\t -llh= -1.192110\t D=  0.993108 p=  0.013784\n",
      "mu=  0.000000 sigmasq=  8.461341 \t t=  0.000035\t -llh= -7.889693\t D=  0.666481 p=  0.667038\n",
      "mu=  0.000000 sigmasq=  7.266547 \t t=  0.000035\t -llh= -7.943857\t D=  0.678762 p=  0.642476\n",
      "0.15404040404040403\n"
     ]
    }
   ],
   "source": [
    "# validation_features\n",
    "EPSILON = 1e-5\n",
    "inputs, rts = validation_features.to(device), validation_observations.to(device)\n",
    "n = 1\n",
    "model.eval()\n",
    "counter = 0.0\n",
    "for i in range(len(inputs)):\n",
    "    output = model(inputs[i:i+1])\n",
    "#     print(training_config['loss_fn'](output, rts[i:i+1]))\n",
    "    param = output.data.cpu().numpy()[0]\n",
    "    obs_time = validation_observations[i:i+1].data.cpu().numpy()[0]\n",
    "    llh = training_config['loss_fn'](output, rts[i:i+1]).data.cpu().numpy()\n",
    "    \n",
    "#     ks = stats.kstest(obs_time, \"lognorm\", [np.sqrt(param[1]+EPSILON), 0, param[0]+EPSILON])\n",
    "    ks = stats.kstest(obs_time, \"invgauss\", [np.sqrt(param[1]+EPSILON), 0, param[0]+EPSILON])\n",
    "    if i < 30:\n",
    "        print('mu={:10f} sigmasq={:10f} \\t t={:10f}\\t -llh={:10f}\\t D={:10f} p={:10f}'.format(param[0], param[1], obs_time[0], llh, ks[0], ks[1]))\n",
    "    if ks[1] < 0.01:\n",
    "        counter += 1\n",
    "        \n",
    "print(counter / len(inputs))\n",
    "# print(validation_observations[n:n+1])"
   ]
  },
  {
   "cell_type": "code",
   "execution_count": null,
   "metadata": {},
   "outputs": [],
   "source": []
  },
  {
   "cell_type": "code",
   "execution_count": null,
   "metadata": {},
   "outputs": [],
   "source": []
  },
  {
   "cell_type": "code",
   "execution_count": 918,
   "metadata": {
    "scrolled": false
   },
   "outputs": [
    {
     "name": "stdout",
     "output_type": "stream",
     "text": [
      "tensor(1.)\n",
      "tensor(57219.)\n",
      "tensor(1.7477e-05)\n",
      "tensor(1.)\n",
      "Disnet Config:\n",
      "\tFirst conv size: 16\n",
      "\tkernel size: 3\n",
      "\tfilter mode: CONSTANT\n",
      "\tsingle output filter: True\n",
      "\tFirst FC layer size: 32\n",
      "\tDropout p = 0.0\n",
      "\tOutput size: 2\n",
      "Number of parameters: 822786\n",
      "Fold 1\n"
     ]
    },
    {
     "ename": "TypeError",
     "evalue": "'TrainingOptions' object is not subscriptable",
     "output_type": "error",
     "traceback": [
      "\u001b[0;31m---------------------------------------------------------------------------\u001b[0m",
      "\u001b[0;31mTypeError\u001b[0m                                 Traceback (most recent call last)",
      "\u001b[0;32m<ipython-input-918-f93160fd8ccf>\u001b[0m in \u001b[0;36m<module>\u001b[0;34m\u001b[0m\n\u001b[1;32m     38\u001b[0m \u001b[0mprint\u001b[0m\u001b[0;34m(\u001b[0m\u001b[0mdistnetConfigToStr\u001b[0m\u001b[0;34m(\u001b[0m\u001b[0mdisnet_config\u001b[0m\u001b[0;34m)\u001b[0m\u001b[0;34m)\u001b[0m\u001b[0;34m\u001b[0m\u001b[0;34m\u001b[0m\u001b[0m\n\u001b[1;32m     39\u001b[0m \u001b[0mprint\u001b[0m\u001b[0;34m(\u001b[0m\u001b[0;34m'Number of parameters: {}'\u001b[0m\u001b[0;34m.\u001b[0m\u001b[0mformat\u001b[0m\u001b[0;34m(\u001b[0m\u001b[0mcount_parameters\u001b[0m\u001b[0;34m(\u001b[0m\u001b[0mmodel\u001b[0m\u001b[0;34m)\u001b[0m\u001b[0;34m)\u001b[0m\u001b[0;34m)\u001b[0m\u001b[0;34m\u001b[0m\u001b[0;34m\u001b[0m\u001b[0m\n\u001b[0;32m---> 40\u001b[0;31m \u001b[0mkfold_df\u001b[0m \u001b[0;34m=\u001b[0m \u001b[0mkfoldValidation\u001b[0m\u001b[0;34m(\u001b[0m\u001b[0mmodel\u001b[0m\u001b[0;34m,\u001b[0m \u001b[0mfeatures\u001b[0m\u001b[0;34m,\u001b[0m \u001b[0mobservations\u001b[0m\u001b[0;34m,\u001b[0m \u001b[0mcurrent_options\u001b[0m\u001b[0;34m,\u001b[0m \u001b[0mnum_folds\u001b[0m\u001b[0;34m=\u001b[0m\u001b[0;36m5\u001b[0m\u001b[0;34m)\u001b[0m\u001b[0;34m\u001b[0m\u001b[0;34m\u001b[0m\u001b[0m\n\u001b[0m",
      "\u001b[0;32m<ipython-input-749-59ec44e19be2>\u001b[0m in \u001b[0;36mkfoldValidation\u001b[0;34m(model, features, observations, options, num_folds)\u001b[0m\n\u001b[1;32m     24\u001b[0m \u001b[0;34m\u001b[0m\u001b[0m\n\u001b[1;32m     25\u001b[0m         \u001b[0;31m# Create dataloaders\u001b[0m\u001b[0;34m\u001b[0m\u001b[0;34m\u001b[0m\u001b[0;34m\u001b[0m\u001b[0m\n\u001b[0;32m---> 26\u001b[0;31m         \u001b[0mbatch_size\u001b[0m \u001b[0;34m=\u001b[0m \u001b[0moptions\u001b[0m\u001b[0;34m[\u001b[0m\u001b[0;34m'batch_size'\u001b[0m\u001b[0;34m]\u001b[0m\u001b[0;34m\u001b[0m\u001b[0;34m\u001b[0m\u001b[0m\n\u001b[0m\u001b[1;32m     27\u001b[0m         \u001b[0mtrain_loader\u001b[0m \u001b[0;34m=\u001b[0m \u001b[0mgetDataLoader\u001b[0m\u001b[0;34m(\u001b[0m\u001b[0mtrain_features\u001b[0m\u001b[0;34m,\u001b[0m \u001b[0mtrain_observations\u001b[0m\u001b[0;34m,\u001b[0m\u001b[0mbatch_size\u001b[0m\u001b[0;34m)\u001b[0m\u001b[0;34m\u001b[0m\u001b[0;34m\u001b[0m\u001b[0m\n\u001b[1;32m     28\u001b[0m         \u001b[0mtest_loader\u001b[0m \u001b[0;34m=\u001b[0m \u001b[0mgetDataLoader\u001b[0m\u001b[0;34m(\u001b[0m\u001b[0mtest_features\u001b[0m\u001b[0;34m,\u001b[0m \u001b[0mtest_observations\u001b[0m\u001b[0;34m,\u001b[0m \u001b[0mbatch_size\u001b[0m\u001b[0;34m)\u001b[0m\u001b[0;34m\u001b[0m\u001b[0;34m\u001b[0m\u001b[0m\n",
      "\u001b[0;31mTypeError\u001b[0m: 'TrainingOptions' object is not subscriptable"
     ]
    }
   ],
   "source": [
    "# Get data\n",
    "features = torch.load('train_nokey_only_solution_feats.pt')\n",
    "observations = torch.load('train_nokey_only_solution_obs.pt')\n",
    "device = torch.device(\"cuda:0\" if torch.cuda.is_available() else \"cpu\")\n",
    "\n",
    "# Training base options\n",
    "# lognormal_loss\n",
    "# lognormal_torch_loss\n",
    "# expo_loss\n",
    "# invgauss_loss\n",
    "# Training is too steep, increase clipping and lower the rate\n",
    "current_options = TrainingOptions(n_epochs=100, batch_size=16, start_rate=1e-2, end_rate=1e-5, \n",
    "                                  loss_fn=invgauss_loss, verbose=True, clip_gradient_norm=1e-2)\n",
    "# current_options = TrainingOptions(n_epochs=100, batch_size=16, start_rate=1e-4, end_rate=1e-6, loss_fn=nn.MSELoss(reduction='mean'), verbose=True)\n",
    "\n",
    "# preprocess\n",
    "print(torch.min(observations))\n",
    "print(torch.max(observations))\n",
    "features = preprocessFeatures(features)\n",
    "observations = preprocessObservations(observations, mode=2)\n",
    "print(torch.min(observations))\n",
    "print(torch.max(observations))\n",
    "\n",
    "# Model\n",
    "output_size = 1 if current_options.loss_fn == expo_loss else 2\n",
    "# disnet_config = DisnetConfig(n_convdepth=8, kernel_size=3, n_fcdepth=32, output_size=output_size, drop_value=0.05,\n",
    "#                 filter_mode=FilterMode.DOUBLE, single_out_filter=True)\n",
    "# disnet_config = DisnetConfig(n_convdepth=16, kernel_size=3, n_fcdepth=32, output_size=output_size, drop_value=0.15,\n",
    "#                 filter_mode=FilterMode.CONSTANT, single_out_filter=True)\n",
    "# disnet_config = DisnetConfig('n_convdepth'=16, 'kernel_size'=3, 'n_fcdepth'=32, 'output_size'=output_size, 'drop_value'=0.0,\n",
    "#                 'filter_mode'=FilterMode.CONSTANT, 'single_out_filter'=True)\n",
    "disnet_config = getDisnetConfig()\n",
    "for k, v in {'n_convdepth':16, 'kernel_size':3, 'n_fcdepth':32, 'output_size':output_size, 'drop_value':0.0,\n",
    "                'filter_mode':FilterMode.CONSTANT, 'single_out_filter':True}.items():\n",
    "    disnet_config[k] = v\n",
    "model = DisNetCNN(disnet_config)\n",
    "# model = FCN(64, 32, 1)\n",
    "print(distnetConfigToStr(disnet_config))\n",
    "print('Number of parameters: {}'.format(count_parameters(model)))\n",
    "kfold_df = kfoldValidation(model, features, observations, current_options, num_folds=5)"
   ]
  },
  {
   "cell_type": "code",
   "execution_count": 809,
   "metadata": {
    "scrolled": true
   },
   "outputs": [
    {
     "name": "stdout",
     "output_type": "stream",
     "text": [
      "tensor(3.4953e-05)\n",
      "tensor(1.)\n",
      "Disnet Config:\n",
      "\tFirst conv size: 16\n",
      "\tkernel size: 3\n",
      "\tfilter mode: CONSTANT\n",
      "\tsingle output filter: True\n",
      "\tFirst FC layer size: 32\n",
      "\tDropout p = 0.0\n",
      "\tOutput size: 2\n",
      "Number of parameters: 206977\n",
      "Fold 1\n",
      "Epoch:   10, Training Loss             0.0029, Validation Loss             0.0018\n",
      "Epoch:   20, Training Loss             0.0019, Validation Loss             0.0018\n",
      "Epoch:   30, Training Loss             0.0019, Validation Loss             0.0019\n",
      "Epoch:   40, Training Loss             0.0019, Validation Loss             0.0018\n",
      "Epoch:   50, Training Loss             0.0019, Validation Loss             0.0018\n",
      "Epoch:   60, Training Loss             0.0019, Validation Loss             0.0018\n",
      "Epoch:   70, Training Loss             0.0019, Validation Loss             0.0018\n",
      "Epoch:   80, Training Loss             0.0019, Validation Loss             0.0018\n",
      "Epoch:   90, Training Loss             0.0019, Validation Loss             0.0018\n",
      "Epoch:  100, Training Loss             0.0019, Validation Loss             0.0018\n",
      "Fold 2\n",
      "Epoch:   10, Training Loss             0.3123, Validation Loss             0.1279\n",
      "Epoch:   20, Training Loss             0.1901, Validation Loss             0.0643\n",
      "Epoch:   30, Training Loss             0.1458, Validation Loss             0.0427\n",
      "Epoch:   40, Training Loss             0.1262, Validation Loss             0.0321\n",
      "Epoch:   50, Training Loss             0.0964, Validation Loss             0.0270\n",
      "Epoch:   60, Training Loss             0.0995, Validation Loss             0.0243\n",
      "Epoch:   70, Training Loss             0.0956, Validation Loss             0.0227\n",
      "Epoch:   80, Training Loss             0.0847, Validation Loss             0.0227\n",
      "Epoch:   90, Training Loss             0.0887, Validation Loss             0.0212\n",
      "Epoch:  100, Training Loss             0.0967, Validation Loss             0.0208\n",
      "Fold 3\n",
      "Epoch:   10, Training Loss             0.0097, Validation Loss             0.0013\n",
      "Epoch:   20, Training Loss             0.0101, Validation Loss             0.0012\n",
      "Epoch:   30, Training Loss             0.0069, Validation Loss             0.0012\n",
      "Epoch:   40, Training Loss             0.0066, Validation Loss             0.0011\n",
      "Epoch:   50, Training Loss             0.0040, Validation Loss             0.0011\n",
      "Epoch:   60, Training Loss             0.0057, Validation Loss             0.0011\n",
      "Epoch:   70, Training Loss             0.0049, Validation Loss             0.0011\n",
      "Epoch:   80, Training Loss             0.0095, Validation Loss             0.0011\n",
      "Epoch:   90, Training Loss             0.0096, Validation Loss             0.0011\n",
      "Epoch:  100, Training Loss             0.0066, Validation Loss             0.0011\n",
      "Fold 4\n",
      "Epoch:   10, Training Loss             4.7343, Validation Loss             3.9649\n",
      "Epoch:   20, Training Loss             3.2305, Validation Loss             2.6914\n",
      "Epoch:   30, Training Loss             2.4955, Validation Loss             2.0991\n",
      "Epoch:   40, Training Loss             2.1089, Validation Loss             1.7841\n",
      "Epoch:   50, Training Loss             1.8972, Validation Loss             1.5971\n",
      "Epoch:   60, Training Loss             1.7968, Validation Loss             1.4969\n",
      "Epoch:   70, Training Loss             1.7281, Validation Loss             1.4290\n",
      "Epoch:   80, Training Loss             1.7084, Validation Loss             1.3975\n",
      "Epoch:   90, Training Loss             1.6255, Validation Loss             1.3663\n",
      "Epoch:  100, Training Loss             1.5697, Validation Loss             1.3489\n",
      "Fold 5\n",
      "Epoch:   10, Training Loss             3.3927, Validation Loss             2.1923\n",
      "Epoch:   20, Training Loss             1.9529, Validation Loss             1.2562\n",
      "Epoch:   30, Training Loss             1.4367, Validation Loss             0.8522\n",
      "Epoch:   40, Training Loss             1.0958, Validation Loss             0.6731\n",
      "Epoch:   50, Training Loss             0.9893, Validation Loss             0.5627\n",
      "Epoch:   60, Training Loss             0.9002, Validation Loss             0.5049\n",
      "Epoch:   70, Training Loss             0.8026, Validation Loss             0.4772\n",
      "Epoch:   80, Training Loss             0.8246, Validation Loss             0.4554\n",
      "Epoch:   90, Training Loss             0.7727, Validation Loss             0.4400\n",
      "Epoch:  100, Training Loss             0.7519, Validation Loss             0.4359\n"
     ]
    }
   ],
   "source": [
    "# Get data\n",
    "features = torch.load('train_nokey_only_solution_feats.pt')\n",
    "observations = torch.load('train_nokey_only_solution_obs.pt')\n",
    "device = torch.device(\"cuda:0\" if torch.cuda.is_available() else \"cpu\")\n",
    "\n",
    "# Training base options\n",
    "# lognormal_loss\n",
    "# lognormal_torch_loss\n",
    "# expo_loss\n",
    "# invgauss_loss\n",
    "# Training is too steep, increase clipping and lower the rate\n",
    "current_options = TrainingOptions(n_epochs=100, batch_size=16, start_rate=1e-2, end_rate=1e-5, \n",
    "                                  loss_fn=invgauss_loss, verbose=True, clip_gradient_norm=1e-2)\n",
    "\n",
    "# preprocess\n",
    "features = preprocessFeatures(features)\n",
    "observations = preprocessObservations(observations, mode=2)\n",
    "print(torch.min(observations))\n",
    "print(torch.max(observations))\n",
    "\n",
    "training_config = getTrainingConfig(n_epochs=100, batch_size=16, loss_fn=nn.MSELoss(), verbose=True,\n",
    "                                   start_rate=1e-3, end_rate=1e-5, clip_gradient_norm=1e-2)\n",
    "\n",
    "# Set default model config\n",
    "output_size = 1 if training_config['loss_fn'] == expo_loss else 2\n",
    "output_size = 1\n",
    "model_config = getDisnetConfig(kernel_size=3, n_fcdepth=32, drop_value=0.1, single_out_filter=True, output_size=output_size)\n",
    "model = DisNetCNN(model_config)\n",
    "model = FCN(64, 32, out_size=output_size, name_suffix=\"mse2\")\n",
    "\n",
    "# Set default training config\n",
    "print(distnetConfigToStr(disnet_config))\n",
    "print('Number of parameters: {}'.format(count_parameters(model)))\n",
    "kfold_df = kfoldValidation(model, features, observations, training_config, num_folds=5)\n",
    "kfold_df.to_pickle('df_FCN_mse_mode2.pkl')"
   ]
  },
  {
   "cell_type": "code",
   "execution_count": 825,
   "metadata": {
    "scrolled": false
   },
   "outputs": [
    {
     "data": {
      "image/png": "[encoded data removed]",
      "text/plain": [
       "<Figure size 842.4x595.44 with 1 Axes>"
      ]
     },
     "metadata": {
      "needs_background": "light"
     },
     "output_type": "display_data"
    }
   ],
   "source": [
    "# graphCompareModelLosses([loss_data], \"test\", \"test1\")\n",
    "# maxVal = 5000\n",
    "# temp1 = pd.read_pickle(\"./df_FCN_lognorm.pkl\")\n",
    "# temp2 = pd.read_pickle(\"./data_out/df_mode2_lognorm_const_2.pkl\")\n",
    "# kfold_df['Loss'][kfold_df['Loss'] >= maxVal] = maxVal\n",
    "# graphCompareModelLosses([kfold_df], \"NLHH\", \"NLLH\", \"test1\")\n",
    "# graphCompareModelLosses([temp1], \"NLHH\", \"NLLH\", \"test1\")\n",
    "\n",
    "# lognorm2\n",
    "# invgauss3\n",
    "# expo\n",
    "data= []\n",
    "items = [3]\n",
    "for i in items:\n",
    "    data.append(pd.read_pickle(\"./df_FCN_{}_mode{}.pkl\".format('expo',i)))\n",
    "    \n",
    "data = [pd.read_pickle(\"./df_FCN_{}_mode{}.pkl\".format('lognorm',2)),\n",
    "       pd.read_pickle(\"./data_out/df_mode2_lognorm_half_{}.pkl\".format(2))]\n",
    "# data = [data[0], data[1], data[11], data[8], data[6]]\n",
    "graphCompareModelLosses(data, \"NLHH\", \"NHLL of Log-Normal Fit\", \"lognorm2_compare_fcn_half\")"
   ]
  },
  {
   "cell_type": "code",
   "execution_count": 101,
   "metadata": {
    "scrolled": true
   },
   "outputs": [
    {
     "data": {
      "image/png": "[encoded data removed]",
      "text/plain": [
       "<Figure size 432x288 with 1 Axes>"
      ]
     },
     "metadata": {
      "needs_background": "light"
     },
     "output_type": "display_data"
    }
   ],
   "source": [
    "observations = torch.load('../consolidated_training_data/train_nokey_only_solution_obs.pt')\n",
    "observations = preprocessObservations(observations, mode=2)\n",
    "temp = [i for i in observations.numpy()[:,0] if i < 0.005]\n",
    "# graphObservations(observations.numpy()[:,0])\n",
    "graphObservations(temp)"
   ]
  },
  {
   "cell_type": "code",
   "execution_count": 629,
   "metadata": {},
   "outputs": [
    {
     "name": "stdout",
     "output_type": "stream",
     "text": [
      "torch.Size([3960, 2, 40, 40])\n",
      "torch.Size([3944, 2, 40, 40])\n"
     ]
    }
   ],
   "source": [
    "features = torch.load('train_nokey_only_solution_feats.pt')\n",
    "print(features.shape)\n",
    "uni = torch.unique(features, dim=0)\n",
    "print(uni.shape)"
   ]
  },
  {
   "cell_type": "code",
   "execution_count": 152,
   "metadata": {},
   "outputs": [
    {
     "name": "stdout",
     "output_type": "stream",
     "text": [
      "torch.Size([3960, 2, 40, 40])\n",
      "torch.Size([3960, 4])\n",
      "tensor([19.,  1.,  0.,  0.])\n"
     ]
    }
   ],
   "source": [
    "feats, obs = dataGatherOnlyObservedSolutions(extendDim=True)\n",
    "print(feats.shape)\n",
    "print(obs.shape)\n",
    "print(obs[0])"
   ]
  },
  {
   "cell_type": "code",
   "execution_count": 97,
   "metadata": {},
   "outputs": [
    {
     "data": {
      "text/plain": [
       "-7.546914552831892"
      ]
     },
     "execution_count": 97,
     "metadata": {},
     "output_type": "execute_result"
    }
   ],
   "source": [
    "EPSILON = 1e-5\n",
    "x = 17.712190467692604\n",
    "mu = 2.147414427383639\n",
    "lambda_ = 1.7509217600691929\n",
    "\n",
    "x = x + EPSILON\n",
    "mu = mu + EPSILON\n",
    "lambda_ = lambda_ + EPSILON\n",
    "\n",
    "lambda1_ = 1.0/lambda_\n",
    "# lambda_ = np.sqrt(lambda_)\n",
    "(stats.invgauss.logpdf(x, mu/lambda_, loc=0, scale=lambda_))"
   ]
  },
  {
   "cell_type": "code",
   "execution_count": 144,
   "metadata": {},
   "outputs": [],
   "source": [
    "def unique(tensor, feats):\n",
    "    temp1 = tensor.numpy()\n",
    "    temp2 = feats.numpy()\n",
    "    \n",
    "#     print(temp1)\n",
    "    t, idx = np.unique(temp1, return_index=True, axis=0)\n",
    "#     print(t)\n",
    "#     print(idx)\n",
    "    temp1 = temp1[np.sort(idx)]\n",
    "    temp2 = temp2[np.sort(idx)]\n",
    "    return torch.from_numpy(temp1), torch.from_numpy(temp2)  "
   ]
  },
  {
   "cell_type": "code",
   "execution_count": 146,
   "metadata": {},
   "outputs": [
    {
     "name": "stdout",
     "output_type": "stream",
     "text": [
      "tensor([[2., 3.],\n",
      "        [1., 2.],\n",
      "        [2., 3.],\n",
      "        [3., 4.],\n",
      "        [3., 4.]])\n",
      "tensor([[1., 2.],\n",
      "        [3., 4.],\n",
      "        [5., 6.],\n",
      "        [7., 8.]])\n",
      "----------\n",
      "tensor([[2., 3.],\n",
      "        [1., 2.],\n",
      "        [3., 4.]])\n",
      "tensor([[1., 2.],\n",
      "        [3., 4.],\n",
      "        [7., 8.]])\n"
     ]
    }
   ],
   "source": [
    "# a = torch.LongTensor([1, 1, 2, 4, 4, 4, 7, 8, 8])\n",
    "a = torch.LongTensor([8, 8, 1, 1, 2, 4, 4, 4, 7])\n",
    "b = torch.LongTensor([1, 2, 3, 4, 5, 6, 7, 8, 9])\n",
    "\n",
    "prediction = torch.tensor([[2.0,3.0], [1.0,2.0],[2.0,3.0], [3.0, 4.0], [3.0, 4.0]])\n",
    "target = torch.tensor([[1.0,2.0], [3.0,4.0],[5.0,6.0], [7.0, 8.0]])\n",
    "\n",
    "# t, idx = torch.unique(prediction, dim=0, sorted=False, return_counts=True)  \n",
    "# print(t)\n",
    "# print(idx)\n",
    "print(prediction)\n",
    "print(target)\n",
    "print(\"----------\")\n",
    "a, b = unique(prediction, target)\n",
    "print(a)\n",
    "print(b)"
   ]
  },
  {
   "cell_type": "code",
   "execution_count": 140,
   "metadata": {},
   "outputs": [
    {
     "name": "stdout",
     "output_type": "stream",
     "text": [
      "torch.Size([3960, 2, 40, 40])\n",
      "torch.Size([3944, 2, 40, 40])\n",
      "tensor([[[0.0000, 0.0000, 0.0000,  ..., 0.0000, 0.0000, 0.0000],\n",
      "         [0.0000, 0.0000, 0.0000,  ..., 0.0000, 0.0000, 0.0000],\n",
      "         [0.0000, 0.0000, 0.0000,  ..., 0.0000, 0.0000, 0.0000],\n",
      "         ...,\n",
      "         [0.2784, 0.2784, 0.2784,  ..., 0.2784, 0.2784, 0.0000],\n",
      "         [0.2784, 0.2784, 0.2784,  ..., 0.2784, 0.2784, 0.0000],\n",
      "         [0.0000, 0.0000, 0.0000,  ..., 0.0000, 0.0000, 0.0000]],\n",
      "\n",
      "        [[0.0068, 0.0137, 0.0205,  ..., 0.0000, 0.0000, 0.0000],\n",
      "         [0.0000, 0.0000, 0.0274,  ..., 0.4041, 0.0000, 0.0000],\n",
      "         [0.0000, 0.0000, 0.0000,  ..., 0.4110, 0.0000, 0.0000],\n",
      "         ...,\n",
      "         [0.0000, 0.0000, 0.0000,  ..., 0.0000, 0.0000, 0.0000],\n",
      "         [0.0000, 0.0000, 0.0000,  ..., 0.0000, 0.0000, 0.0000],\n",
      "         [0.0000, 0.0000, 0.0000,  ..., 0.0000, 0.0000, 0.0000]]])\n"
     ]
    }
   ],
   "source": [
    "print(feats.shape)\n",
    "t, _ = unique(feats)\n",
    "print(t.shape)\n",
    "print(t[0])"
   ]
  },
  {
   "cell_type": "code",
   "execution_count": 173,
   "metadata": {},
   "outputs": [
    {
     "data": {
      "text/plain": [
       "tensor(1.3339)"
      ]
     },
     "execution_count": 173,
     "metadata": {},
     "output_type": "execute_result"
    }
   ],
   "source": [
    "mu = 2.5 - 1e-5\n",
    "theta = 1.2- 1e-5\n",
    "target = 5- 1e-5\n",
    "lognormal_torch_loss(torch.Tensor([[mu, theta]]),  torch.Tensor([[target, 0]]))"
   ]
  },
  {
   "cell_type": "code",
   "execution_count": 170,
   "metadata": {},
   "outputs": [
    {
     "data": {
      "text/plain": [
       "tensor([5.0000])"
      ]
     },
     "execution_count": 170,
     "metadata": {},
     "output_type": "execute_result"
    }
   ],
   "source": [
    "torch.Tensor([[target, 1]])[:,0]"
   ]
  },
  {
   "cell_type": "code",
   "execution_count": 179,
   "metadata": {},
   "outputs": [
    {
     "ename": "ValueError",
     "evalue": "too many values to unpack (expected 2)",
     "output_type": "error",
     "traceback": [
      "\u001b[0;31m---------------------------------------------------------------------------\u001b[0m",
      "\u001b[0;31mValueError\u001b[0m                                Traceback (most recent call last)",
      "\u001b[0;32m<ipython-input-179-f6993f1c03fc>\u001b[0m in \u001b[0;36m<module>\u001b[0;34m\u001b[0m\n\u001b[0;32m----> 1\u001b[0;31m \u001b[0mdataset\u001b[0m \u001b[0;34m=\u001b[0m \u001b[0mCustomDataset\u001b[0m\u001b[0;34m(\u001b[0m\u001b[0;34m[\u001b[0m\u001b[0;34m\"train1\"\u001b[0m\u001b[0;34m,\u001b[0m \u001b[0;34m\"train2\"\u001b[0m\u001b[0;34m]\u001b[0m\u001b[0;34m,\u001b[0m \u001b[0;36m990\u001b[0m\u001b[0;34m,\u001b[0m \u001b[0;36m1\u001b[0m\u001b[0;34m)\u001b[0m\u001b[0;34m\u001b[0m\u001b[0;34m\u001b[0m\u001b[0m\n\u001b[0m",
      "\u001b[0;32m<ipython-input-178-0e63eba2166b>\u001b[0m in \u001b[0;36m__init__\u001b[0;34m(self, levelsets, level_range, lbd_per_level)\u001b[0m\n\u001b[1;32m     34\u001b[0m                     \u001b[0;32mbreak\u001b[0m\u001b[0;34m\u001b[0m\u001b[0;34m\u001b[0m\u001b[0m\n\u001b[1;32m     35\u001b[0m                 \u001b[0;31m# Aggregate feature data for each channel\u001b[0m\u001b[0;34m\u001b[0m\u001b[0;34m\u001b[0m\u001b[0;34m\u001b[0m\u001b[0m\n\u001b[0;32m---> 36\u001b[0;31m                 \u001b[0;32mfor\u001b[0m \u001b[0mi\u001b[0m\u001b[0;34m,\u001b[0m \u001b[0mchannel\u001b[0m \u001b[0;32min\u001b[0m \u001b[0mfeature\u001b[0m\u001b[0;34m:\u001b[0m\u001b[0;34m\u001b[0m\u001b[0;34m\u001b[0m\u001b[0m\n\u001b[0m\u001b[1;32m     37\u001b[0m                     \u001b[0;32mfor\u001b[0m \u001b[0mrow\u001b[0m \u001b[0;32min\u001b[0m \u001b[0mfeature\u001b[0m\u001b[0;34m:\u001b[0m\u001b[0;34m\u001b[0m\u001b[0;34m\u001b[0m\u001b[0m\n\u001b[1;32m     38\u001b[0m                         \u001b[0;32mfor\u001b[0m \u001b[0md\u001b[0m \u001b[0;32min\u001b[0m \u001b[0mrow\u001b[0m\u001b[0;34m:\u001b[0m\u001b[0;34m\u001b[0m\u001b[0;34m\u001b[0m\u001b[0m\n",
      "\u001b[0;31mValueError\u001b[0m: too many values to unpack (expected 2)"
     ]
    }
   ],
   "source": [
    "dataset = CustomDataset([\"train1\", \"train2\"], 990, 1)"
   ]
  },
  {
   "cell_type": "code",
   "execution_count": null,
   "metadata": {},
   "outputs": [],
   "source": []
  }
 ],
 "metadata": {
  "kernelspec": {
   "display_name": "deep-learning",
   "language": "python",
   "name": "deep-learning"
  },
  "language_info": {
   "codemirror_mode": {
    "name": "ipython",
    "version": 3
   },
   "file_extension": ".py",
   "mimetype": "text/x-python",
   "name": "python",
   "nbconvert_exporter": "python",
   "pygments_lexer": "ipython3",
   "version": "3.7.7"
  }
 },
 "nbformat": 4,
 "nbformat_minor": 4
}
