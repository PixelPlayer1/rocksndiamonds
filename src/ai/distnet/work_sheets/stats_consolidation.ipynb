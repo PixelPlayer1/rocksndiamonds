{
 "cells": [
  {
   "cell_type": "code",
   "execution_count": 1,
   "metadata": {},
   "outputs": [],
   "source": [
    "import os\n",
    "import pickle\n",
    "from collections import defaultdict"
   ]
  },
  {
   "cell_type": "code",
   "execution_count": 2,
   "metadata": {},
   "outputs": [],
   "source": [
    "def save_obj(obj, name):\n",
    "    with open('../model_run_stats/'+ name + '.pkl', 'wb') as f:\n",
    "        pickle.dump(obj, f, pickle.HIGHEST_PROTOCOL)\n",
    "\n",
    "def load_obj(name):\n",
    "    with open('../model_run_stats/' + name + '.pkl', 'rb') as f:\n",
    "        return pickle.load(f)"
   ]
  },
  {
   "cell_type": "code",
   "execution_count": 3,
   "metadata": {},
   "outputs": [],
   "source": [
    "def getLevelInfo(path, leveset_stats, levelsets, model):\n",
    "    with open(path, 'r') as f:\n",
    "        line = f.read().strip().split(',')\n",
    "        if line == [''] or len(line) < 4:\n",
    "            return\n",
    "        model_ = line[3].split('=')[1]\n",
    "        if model_ != model: return\n",
    "        levelset = line[0].split('=')[1]\n",
    "        level = int(line[1].split('=')[1])\n",
    "        count = int(line[2].split('=')[1])\n",
    "        if levelset not in levelsets or model_ != model:\n",
    "            return\n",
    "        leveset_stats[levelset][level] = count"
   ]
  },
  {
   "cell_type": "code",
   "execution_count": 4,
   "metadata": {},
   "outputs": [],
   "source": [
    "stats_dir = '../../stats'\n",
    "def getLevelStats(levelsets, model):\n",
    "    levelset_stats_ = defaultdict(dict)\n",
    "    for subdir, dirs, files in os.walk(stats_dir):\n",
    "        for file in files:\n",
    "            getLevelInfo(os.path.join(subdir, file), levelset_stats_, levelsets, model)\n",
    "    return levelset_stats_"
   ]
  },
  {
   "cell_type": "code",
   "execution_count": 259,
   "metadata": {},
   "outputs": [
    {
     "name": "stdout",
     "output_type": "stream",
     "text": [
      "19\n",
      "train1 {34 : 3, 171 : 2, 662 : 325, 892 : 72371, 962 : 22, }\n",
      "train2 {53 : 247, 133 : 577, 310 : 198, 347 : 1264, 777 : 1483, 942 : 50, }\n",
      "train3 {37 : 2, 378 : 2, 590 : 28739, 812 : 525, 889 : 2, }\n",
      "train4 {540 : 642, 664 : 2, 742 : 714, }\n",
      "107170\n"
     ]
    }
   ],
   "source": [
    "stats_dir = '../../stats'\n",
    "levelsets = ['train5', 'train6', 'train7', 'train8']\n",
    "model = \"Bayesian/bayesian_lb_0_1\"\n",
    "# model = \"DistNet/distnet_lb_0_1\"\n",
    "model = \"Trivial\"\n",
    "temp_list = getLevelStats(levelsets, model)\n",
    "print(sum([len(i) for i in temp_list.values()]))\n",
    "s = 0\n",
    "for k in sorted(temp_list.keys()):\n",
    "    print\n",
    "    inner_list = temp_list[k]\n",
    "    print(k + ' {', end=\"\")\n",
    "    for l in sorted(inner_list.keys()):\n",
    "        print('{} : {}, '.format(l, inner_list[l]), end=\"\")\n",
    "        s += inner_list[l]\n",
    "    print('}')\n",
    "print(s)"
   ]
  },
  {
   "cell_type": "code",
   "execution_count": null,
   "metadata": {},
   "outputs": [],
   "source": []
  },
  {
   "cell_type": "code",
   "execution_count": null,
   "metadata": {},
   "outputs": [],
   "source": []
  },
  {
   "cell_type": "code",
   "execution_count": null,
   "metadata": {},
   "outputs": [],
   "source": []
  },
  {
   "cell_type": "code",
   "execution_count": null,
   "metadata": {},
   "outputs": [],
   "source": []
  },
  {
   "cell_type": "code",
   "execution_count": 5,
   "metadata": {},
   "outputs": [],
   "source": [
    "# stats_dir = '../../stats'\n",
    "# levelsets = ['train5', 'train6', 'train7', 'train8']\n",
    "# model = \"Bayesian/bayesian_lb_0_1\"\n",
    "# # model = \"DistNet/distnet_lb_0_1\"\n",
    "# model = \"Trivial\"\n",
    "# levelset_stats = getLevelStats(levelsets, model)\n",
    "# save_obj(levelset_stats, 'train_5-6-7-8_LevinTS')"
   ]
  },
  {
   "cell_type": "code",
   "execution_count": 21,
   "metadata": {},
   "outputs": [
    {
     "data": {
      "text/plain": [
       "803"
      ]
     },
     "execution_count": 21,
     "metadata": {},
     "output_type": "execute_result"
    }
   ],
   "source": [
    "# save_obj(levelset_stats, 'train_1-2-3-4_LevinTS')\n",
    "levelset_stats = load_obj('train_1-2-3-4_LevinTS')\n",
    "levelset_stats = load_obj('train_5-6-7-8_LevinTS')\n",
    "levelset_stats['train7'][743]"
   ]
  },
  {
   "cell_type": "code",
   "execution_count": 12,
   "metadata": {},
   "outputs": [
    {
     "data": {
      "text/plain": [
       "990"
      ]
     },
     "execution_count": 12,
     "metadata": {},
     "output_type": "execute_result"
    }
   ],
   "source": []
  }
 ],
 "metadata": {
  "kernelspec": {
   "display_name": "deep-learning",
   "language": "python",
   "name": "deep-learning"
  },
  "language_info": {
   "codemirror_mode": {
    "name": "ipython",
    "version": 3
   },
   "file_extension": ".py",
   "mimetype": "text/x-python",
   "name": "python",
   "nbconvert_exporter": "python",
   "pygments_lexer": "ipython3",
   "version": "3.7.7"
  }
 },
 "nbformat": 4,
 "nbformat_minor": 4
}
