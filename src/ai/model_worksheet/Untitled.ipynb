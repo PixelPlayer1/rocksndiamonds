{
 "cells": [
  {
   "cell_type": "markdown",
   "metadata": {},
   "source": [
    "# Imports"
   ]
  },
  {
   "cell_type": "code",
   "execution_count": 92,
   "metadata": {},
   "outputs": [],
   "source": [
    "import numpy as np\n",
    "from sklearn.model_selection import KFold\n",
    "from sklearn.model_selection import ParameterGrid\n",
    "\n",
    "import torch\n",
    "import torch.nn as nn\n",
    "import torch.optim as optim\n",
    "import torch.nn.functional as F\n",
    "from torchsummary import summary\n",
    "from torch.utils.data import Dataset\n",
    "\n",
    "import matplotlib.pyplot as plt\n",
    "from scipy.interpolate import spline\n",
    "\n",
    "import itertools\n",
    "import copy\n",
    "from collections import namedtuple"
   ]
  },
  {
   "cell_type": "markdown",
   "metadata": {},
   "source": [
    "# Bulk data concatenation"
   ]
  },
  {
   "cell_type": "code",
   "execution_count": 8,
   "metadata": {},
   "outputs": [],
   "source": [
    "data_path = \"../training_data/\"\n",
    "data_levelsets = [\"train1\", \"train2\", \"train3\", \"train4\"]\n",
    "data_levels = range(1, 990+1)\n",
    "observation_ext = \"observation.zip\"\n",
    "feature_ext = \"feature.zip\"\n",
    "\n",
    "def _addRowAndCol(feature_tensor):\n",
    "    # 3xnxn -> 3x(n+1)x(n+1)\n",
    "    n = feature_tensor.size()[1]\n",
    "    channels = []\n",
    "    new_col = torch.zeros(n, 1)\n",
    "    new_row = torch.zeros(1, n+1)\n",
    "    for channel in feature_tensor:\n",
    "        output_tensor = torch.cat((channel, new_col), dim=1)\n",
    "        output_tensor = torch.cat((output_tensor, new_row), dim=0)\n",
    "        channels.append(output_tensor)\n",
    "    return torch.stack(channels)\n",
    "    \n",
    "\n",
    "def dataGatherOnlyObservedSolutions():\n",
    "    features = []\n",
    "    observations = []\n",
    "    for levelset, levelnum in itertools.product(*[data_levelsets, data_levels]):\n",
    "        level_feature_path = '{}{}_{}_{}'.format(data_path, levelset, levelnum, feature_ext)\n",
    "        level_observation_path = '{}{}_{}_{}'.format(data_path, levelset, levelnum, observation_ext)\n",
    "        \n",
    "        level_features = torch.load(level_feature_path)\n",
    "        level_observations = torch.load(level_observation_path)\n",
    "        \n",
    "        for feat, obs in zip(level_features, level_observations):\n",
    "            if obs[1] == 1:\n",
    "#                 features.append(feat.clone())\n",
    "                features.append(_addRowAndCol(feat.clone()))\n",
    "                observations.append(torch.tensor([obs[0].clone()], dtype=torch.float32))\n",
    "        del level_features\n",
    "        del level_observations\n",
    "                \n",
    "    return torch.stack(features), torch.stack(observations)"
   ]
  },
  {
   "cell_type": "markdown",
   "metadata": {},
   "source": [
    "# Data Preprocessing and Standardizing\n",
    "- Features are standardized to mean 0 and std 1\n",
    "- Observations are normalzed to range [0,1]"
   ]
  },
  {
   "cell_type": "code",
   "execution_count": 33,
   "metadata": {},
   "outputs": [],
   "source": [
    "def preprocessFeatures(features):\n",
    "    # features is shape [N, 2, 39, 39]\n",
    "    # permute to channel is top most axis\n",
    "    temp_feats = features.clone().permute(*[i for i in range(1, len(features.shape))], 0).contiguous()\n",
    "    # Calculate mean/std for standardization\n",
    "    mean = temp_feats.view(2, -1).mean(dim=1)\n",
    "    std = temp_feats.view(2, -1).std(dim=1)\n",
    "    # Normalize original features\n",
    "    for f in features:\n",
    "        for i, (mu, sigma) in enumerate(zip(mean.tolist(), std.tolist())):\n",
    "            f[i].sub_(mu)\n",
    "            f[i].div_(sigma)\n",
    "    \n",
    "    return features\n",
    "\n",
    "def preprocessObservations(observations):\n",
    "    return torch.log(observations)\n",
    "#     return observations / max(observations)\n",
    "#     return torch.log(observations) / max(torch.log(observations))\n",
    "\n",
    "def getDataLoader(features, observations, batch_size=64):\n",
    "    data = [(feat, obs) for feat, obs in zip(features, observations)]\n",
    "    return torch.utils.data.DataLoader(data, batch_size=batch_size, shuffle=True)\n",
    "        "
   ]
  },
  {
   "cell_type": "markdown",
   "metadata": {},
   "source": [
    "# Model"
   ]
  },
  {
   "cell_type": "code",
   "execution_count": 121,
   "metadata": {},
   "outputs": [],
   "source": [
    "class DisNetCNN(nn.Module):\n",
    "    def __init__(self):\n",
    "        super().__init__()\n",
    "        ks1 = 3\n",
    "        ks2 = 3\n",
    "        ks3 = 1\n",
    "        \n",
    "        conv1_depth = 16\n",
    "        conv2_depth = 32\n",
    "        \n",
    "        # convolution layers\n",
    "        self.conv1 = nn.Conv2d(2, conv1_depth, kernel_size=ks1, stride=1, padding=1)\n",
    "        torch.nn.init.xavier_uniform_(self.conv1.weight)\n",
    "        self.conv2 = nn.Conv2d(conv1_depth, conv2_depth, kernel_size=ks2, stride=1, padding=1)\n",
    "        torch.nn.init.xavier_uniform_(self.conv2.weight)\n",
    "        self.conv3 = nn.Conv2d(conv2_depth, 1, kernel_size=ks3, stride=1, padding=0)\n",
    "        torch.nn.init.xavier_uniform_(self.conv3.weight)\n",
    "        \n",
    "        # pooling\n",
    "        self.maxPool = nn.MaxPool2d(2, 2)\n",
    "        self.dropout1 = nn.Dropout2d(0.2)\n",
    "        self.dropout2 = nn.Dropout2d(0.3)\n",
    "#         self.avgPool = nn.AveragePool2d(2, 2)\n",
    "        # subsampling\n",
    "        \n",
    "        # FC\n",
    "        self.fc1 = nn.Linear(40*40, 64)\n",
    "        torch.nn.init.xavier_uniform_(self.fc1.weight)\n",
    "        self.fc2 = nn.Linear(64, 32)\n",
    "        torch.nn.init.xavier_uniform_(self.fc2.weight)\n",
    "        self.fc3 = nn.Linear(32, 1)\n",
    "        torch.nn.init.xavier_uniform_(self.fc3.weight)\n",
    "    \n",
    "    def forward(self, x):\n",
    "        x = F.relu(self.conv1(x))\n",
    "        x = F.relu(self.conv2(x))\n",
    "        x = F.relu(self.conv3(x))\n",
    "        x = x.view(-1, self.num_flat_features(x))\n",
    "        x = F.relu(self.fc1(x))\n",
    "        x = self.dropout1(F.relu(self.fc2(x)))\n",
    "        x = self.dropout2(F.relu(self.fc3(x)))\n",
    "        return x\n",
    "    \n",
    "    def num_flat_features(self, x):\n",
    "        size = x.size()[1:]  # all dimensions except the batch dimension\n",
    "        num_features = 1\n",
    "        for s in size:\n",
    "            num_features *= s\n",
    "        return num_features\n",
    "    \n",
    "    \n"
   ]
  },
  {
   "cell_type": "code",
   "execution_count": 90,
   "metadata": {},
   "outputs": [],
   "source": [
    "class FCN(nn.Module):\n",
    "    def __init__(self, fc1_size=64, fc2_size=32):\n",
    "        super().__init__()\n",
    "        self.dropout = nn.Dropout2d(0.0)\n",
    "        \n",
    "        self.fc1 = nn.Linear(40*40*2, fc1_size)\n",
    "        torch.nn.init.xavier_uniform_(self.fc1.weight)\n",
    "        self.fc2 = nn.Linear(fc1_size, fc2_size)\n",
    "        torch.nn.init.xavier_uniform_(self.fc2.weight)\n",
    "        self.fc3 = nn.Linear(fc2_size, 1)\n",
    "        torch.nn.init.xavier_uniform_(self.fc3.weight)\n",
    "    \n",
    "    def forward(self, x):\n",
    "        x = x.view(-1, self.num_flat_features(x))\n",
    "        x = F.relu(self.fc1(x))\n",
    "        x = self.dropout(F.relu(self.fc2(x)))\n",
    "        x = self.dropout(F.relu(self.fc3(x)))\n",
    "        return x\n",
    "    \n",
    "    def num_flat_features(self, x):\n",
    "        size = x.size()[1:]  # all dimensions except the batch dimension\n",
    "        num_features = 1\n",
    "        for s in size:\n",
    "            num_features *= s\n",
    "        return num_features"
   ]
  },
  {
   "cell_type": "markdown",
   "metadata": {},
   "source": [
    "# Training loop"
   ]
  },
  {
   "cell_type": "code",
   "execution_count": 96,
   "metadata": {},
   "outputs": [],
   "source": [
    "# Options = namedtuple('Options', ['n_epochs', 'batch_size', 'start_rate', 'end_rate', 'clip_gradient_norm', \n",
    "#                                  'loss_fn', 'verbose']\n",
    "#                     )\n",
    "# default_options = Options(n_epochs=100, batch_size=64, start_rate=1e-3, end_rate=1e-5, \n",
    "#                           clip_gradient_norm=1e-2, loss_fn=nn.MSELoss(), verbose=False\n",
    "#                          )\n",
    "default_options = {'n_epochs' : 100, 'batch_size' : 64, 'start_rate' : 1e-3, 'end_rate' : 1e-5, \n",
    "                          'clip_gradient_norm' : 1e-2, 'loss_fn' : nn.MSELoss(), 'verbose' : False\n",
    "                  }"
   ]
  },
  {
   "cell_type": "code",
   "execution_count": 104,
   "metadata": {},
   "outputs": [],
   "source": [
    "# def train(features, observations, options=default_options):\n",
    "def train(model, device, train_loader, validation_loader, options=default_options):\n",
    "    \n",
    "    # Set device\n",
    "    model.to(device)\n",
    "    \n",
    "    # Get training attributes from options\n",
    "    loss_fn = options['loss_fn']\n",
    "    start_rate = options['start_rate']\n",
    "    end_rate = options['end_rate']\n",
    "    n_epochs = options['n_epochs']\n",
    "    clip_gradient_norm = options['clip_gradient_norm']\n",
    "#     loss_fn = nn.NLLLoss()\n",
    "    \n",
    "    # Optimizers\n",
    "    # - learning rate start 1e-3 to end 1e-5 [done]\n",
    "    # - gradient clipping [done]\n",
    "    # - tanh activation function\n",
    "    # - SGD [done]\n",
    "    # - batch normalization (as a layer)\n",
    "    # - L2 regularization of 1e-4\n",
    "    decay_rate = np.exp(np.log(end_rate / start_rate) / n_epochs)\n",
    "    \n",
    "    optimizer = optim.SGD(model.parameters(), lr=start_rate)\n",
    "#     optimizer = optim.SGD(model.parameters(), lr=start_rate, weight_decay=0.01)\n",
    "    lr_scheduler = optim.lr_scheduler.ExponentialLR(optimizer=optimizer, gamma=decay_rate)\n",
    "    \n",
    "    loss_values = []\n",
    "    for epoch in range(n_epochs):\n",
    "        training_loss = 0.0\n",
    "        for i, data in enumerate(train_loader):\n",
    "            # get the inputs; data is a list of [features, runtime]\n",
    "            inputs, rts = data\n",
    "            inputs, rts = inputs.to(device), rts.to(device)\n",
    "            \n",
    "            # zero the parameter gradients\n",
    "            optimizer.zero_grad()\n",
    "            \n",
    "            # Propogate input to model and calculate loss\n",
    "            batch_size = inputs.shape[0]\n",
    "            outputs = model(inputs)\n",
    "            loss = loss_fn(outputs, rts)\n",
    "            \n",
    "            # Add l2 loss\n",
    "            \n",
    "            # Clip the gradients\n",
    "            if clip_gradient_norm != None:\n",
    "                torch.nn.utils.clip_grad_norm_(model.parameters(), clip_gradient_norm)\n",
    "            \n",
    "            # Propogate loss backwards and step optimizer\n",
    "            loss.backward()\n",
    "            optimizer.step()\n",
    "            \n",
    "#             running_loss =+ loss.item() * inputs.size(0)\n",
    "            training_loss += loss.item()\n",
    "            \n",
    "        # Get validation loss\n",
    "        validation_loss = 0.0\n",
    "        for i, data in enumerate(validation_loader):\n",
    "            inputs, rts = data\n",
    "            inputs, rts = inputs.to(device), rts.to(device)\n",
    "            outputs = model(inputs)\n",
    "            loss = loss_fn(outputs, rts)\n",
    "            validation_loss += loss.item()\n",
    "            \n",
    "        # Store training and validation loss\n",
    "        loss_values.append((training_loss / len(train_loader), validation_loss / len(validation_loader)))\n",
    "        if options['verbose'] and epoch % 10 == 9: print(\"Epoch: %d, Loss: %f\" % (epoch, float(loss_values[-1][0])))\n",
    "        \n",
    "        # Update learning rate\n",
    "        lr_scheduler.step()\n",
    "    return loss_values, model"
   ]
  },
  {
   "cell_type": "markdown",
   "metadata": {},
   "source": [
    "# Testing"
   ]
  },
  {
   "cell_type": "markdown",
   "metadata": {},
   "source": [
    "### Single set validation"
   ]
  },
  {
   "cell_type": "code",
   "execution_count": 20,
   "metadata": {},
   "outputs": [],
   "source": [
    "def validate(features, observations, model, options=default_options):\n",
    "    # Preprocess input\n",
    "    features = preprocessFeatures(features)\n",
    "    observations = preprocessObservations(observations)\n",
    "    \n",
    "    # Create dataloader\n",
    "    test_loader = getDataLoader(features, observations, options.batch_size)\n",
    "    \n",
    "    # Don't need to backprop during testing\n",
    "    with torch.no_grad():\n",
    "        for i, data in enumerate(test_loader):\n",
    "             # get the inputs; data is a list of [features, runtime]\n",
    "            inputs, rts = data\n",
    "            inputs, rts = inputs.to(device), rts.to(device)   "
   ]
  },
  {
   "cell_type": "markdown",
   "metadata": {},
   "source": [
    "### K-Fold Validation"
   ]
  },
  {
   "cell_type": "code",
   "execution_count": 106,
   "metadata": {},
   "outputs": [],
   "source": [
    "def kfoldValidation(features, observations, options, model):\n",
    "    # Get training attributes from options\n",
    "    batch_size = options['batch_size']\n",
    "    loss_fn = options['loss_fn']\n",
    "    \n",
    "    kf = KFold(n_splits=5, shuffle=True, random_state=0)\n",
    "    test_losses = []\n",
    "    for training_idx, test_idx in kf.split(features):\n",
    "        # Split data\n",
    "        train_features, test_features = features[training_idx,:], features[test_idx,:]\n",
    "        train_observations, test_observations = observations[training_idx,:], observations[test_idx,:]\n",
    "        \n",
    "        # Create dataloaders\n",
    "        train_loader = getDataLoader(train_features, train_observations, batch_size)\n",
    "        test_loader = getDataLoader(test_features, test_observations, batch_size)\n",
    "        \n",
    "        # Train model\n",
    "        device = torch.device(\"cuda:0\" if torch.cuda.is_available() else \"cpu\")\n",
    "        loss_values, model = train(model, device, train_loader, test_loader, options)\n",
    "        \n",
    "        # Test \n",
    "        # Don't need to backprop during testing\n",
    "        test_loss = 0.0\n",
    "        with torch.no_grad():\n",
    "            for data in test_loader:\n",
    "                inputs, rts = data\n",
    "                inputs, rts = inputs.to(device), rts.to(device)  \n",
    "                outputs = model(inputs)\n",
    "                loss = loss_fn(outputs, rts)\n",
    "                test_loss += loss.item()\n",
    "                \n",
    "        # Save avg loss\n",
    "        test_losses.append(test_loss / len(test_loader))\n",
    "        \n",
    "    # Average losses\n",
    "    return np.mean(test_losses)\n",
    "        "
   ]
  },
  {
   "cell_type": "markdown",
   "metadata": {},
   "source": [
    "# Util and Graphing"
   ]
  },
  {
   "cell_type": "code",
   "execution_count": 21,
   "metadata": {},
   "outputs": [],
   "source": [
    "def smooth(y, box_pts):\n",
    "    box = np.ones(box_pts)/box_pts\n",
    "    y_smooth = np.convolve(y, box, mode='same')\n",
    "    return y_smooth"
   ]
  },
  {
   "cell_type": "markdown",
   "metadata": {},
   "source": [
    "# Main Scripts"
   ]
  },
  {
   "cell_type": "markdown",
   "metadata": {},
   "source": [
    "   "
   ]
  },
  {
   "cell_type": "markdown",
   "metadata": {},
   "source": [
    "### FNN Model Gridsearch"
   ]
  },
  {
   "cell_type": "code",
   "execution_count": 108,
   "metadata": {},
   "outputs": [
    {
     "ename": "KeyboardInterrupt",
     "evalue": "",
     "output_type": "error",
     "traceback": [
      "\u001b[0;31m---------------------------------------------------------------------------\u001b[0m",
      "\u001b[0;31mKeyboardInterrupt\u001b[0m                         Traceback (most recent call last)",
      "\u001b[0;32m<ipython-input-108-d631bea7432e>\u001b[0m in \u001b[0;36m<module>\u001b[0;34m()\u001b[0m\n\u001b[1;32m     40\u001b[0m \u001b[0;34m\u001b[0m\u001b[0m\n\u001b[1;32m     41\u001b[0m     \u001b[0;31m# Run K-fold\u001b[0m\u001b[0;34m\u001b[0m\u001b[0;34m\u001b[0m\u001b[0m\n\u001b[0;32m---> 42\u001b[0;31m     \u001b[0mresults\u001b[0m\u001b[0;34m.\u001b[0m\u001b[0mappend\u001b[0m\u001b[0;34m(\u001b[0m\u001b[0;34m(\u001b[0m\u001b[0mkfoldValidation\u001b[0m\u001b[0;34m(\u001b[0m\u001b[0mfeatures\u001b[0m\u001b[0;34m,\u001b[0m \u001b[0mobservations\u001b[0m\u001b[0;34m,\u001b[0m \u001b[0mcurrent_options\u001b[0m\u001b[0;34m,\u001b[0m \u001b[0mmodel\u001b[0m\u001b[0;34m)\u001b[0m\u001b[0;34m,\u001b[0m \u001b[0mcurrent_options\u001b[0m\u001b[0;34m)\u001b[0m\u001b[0;34m)\u001b[0m\u001b[0;34m\u001b[0m\u001b[0m\n\u001b[0m\u001b[1;32m     43\u001b[0m \u001b[0;34m\u001b[0m\u001b[0m\n\u001b[1;32m     44\u001b[0m \u001b[0;31m# Print results\u001b[0m\u001b[0;34m\u001b[0m\u001b[0;34m\u001b[0m\u001b[0m\n",
      "\u001b[0;32m<ipython-input-106-db6f0fa76695>\u001b[0m in \u001b[0;36mkfoldValidation\u001b[0;34m(features, observations, options, model)\u001b[0m\n\u001b[1;32m     17\u001b[0m         \u001b[0;31m# Train model\u001b[0m\u001b[0;34m\u001b[0m\u001b[0;34m\u001b[0m\u001b[0m\n\u001b[1;32m     18\u001b[0m         \u001b[0mdevice\u001b[0m \u001b[0;34m=\u001b[0m \u001b[0mtorch\u001b[0m\u001b[0;34m.\u001b[0m\u001b[0mdevice\u001b[0m\u001b[0;34m(\u001b[0m\u001b[0;34m\"cuda:0\"\u001b[0m \u001b[0;32mif\u001b[0m \u001b[0mtorch\u001b[0m\u001b[0;34m.\u001b[0m\u001b[0mcuda\u001b[0m\u001b[0;34m.\u001b[0m\u001b[0mis_available\u001b[0m\u001b[0;34m(\u001b[0m\u001b[0;34m)\u001b[0m \u001b[0;32melse\u001b[0m \u001b[0;34m\"cpu\"\u001b[0m\u001b[0;34m)\u001b[0m\u001b[0;34m\u001b[0m\u001b[0m\n\u001b[0;32m---> 19\u001b[0;31m         \u001b[0mloss_values\u001b[0m\u001b[0;34m,\u001b[0m \u001b[0mmodel\u001b[0m \u001b[0;34m=\u001b[0m \u001b[0mtrain\u001b[0m\u001b[0;34m(\u001b[0m\u001b[0mmodel\u001b[0m\u001b[0;34m,\u001b[0m \u001b[0mdevice\u001b[0m\u001b[0;34m,\u001b[0m \u001b[0mtrain_loader\u001b[0m\u001b[0;34m,\u001b[0m \u001b[0mtest_loader\u001b[0m\u001b[0;34m,\u001b[0m \u001b[0moptions\u001b[0m\u001b[0;34m)\u001b[0m\u001b[0;34m\u001b[0m\u001b[0m\n\u001b[0m\u001b[1;32m     20\u001b[0m \u001b[0;34m\u001b[0m\u001b[0m\n\u001b[1;32m     21\u001b[0m         \u001b[0;31m# Test\u001b[0m\u001b[0;34m\u001b[0m\u001b[0;34m\u001b[0m\u001b[0m\n",
      "\u001b[0;32m<ipython-input-104-3f14f2000fb2>\u001b[0m in \u001b[0;36mtrain\u001b[0;34m(model, device, train_loader, validation_loader, options)\u001b[0m\n\u001b[1;32m     50\u001b[0m             \u001b[0;31m# Propogate loss backwards and step optimizer\u001b[0m\u001b[0;34m\u001b[0m\u001b[0;34m\u001b[0m\u001b[0m\n\u001b[1;32m     51\u001b[0m             \u001b[0mloss\u001b[0m\u001b[0;34m.\u001b[0m\u001b[0mbackward\u001b[0m\u001b[0;34m(\u001b[0m\u001b[0;34m)\u001b[0m\u001b[0;34m\u001b[0m\u001b[0m\n\u001b[0;32m---> 52\u001b[0;31m             \u001b[0moptimizer\u001b[0m\u001b[0;34m.\u001b[0m\u001b[0mstep\u001b[0m\u001b[0;34m(\u001b[0m\u001b[0;34m)\u001b[0m\u001b[0;34m\u001b[0m\u001b[0m\n\u001b[0m\u001b[1;32m     53\u001b[0m \u001b[0;34m\u001b[0m\u001b[0m\n\u001b[1;32m     54\u001b[0m \u001b[0;31m#             running_loss =+ loss.item() * inputs.size(0)\u001b[0m\u001b[0;34m\u001b[0m\u001b[0;34m\u001b[0m\u001b[0m\n",
      "\u001b[0;32m~/anaconda3/envs/deep-learning/lib/python3.6/site-packages/torch/optim/sgd.py\u001b[0m in \u001b[0;36mstep\u001b[0;34m(self, closure)\u001b[0m\n\u001b[1;32m    105\u001b[0m                         \u001b[0md_p\u001b[0m \u001b[0;34m=\u001b[0m \u001b[0mbuf\u001b[0m\u001b[0;34m\u001b[0m\u001b[0m\n\u001b[1;32m    106\u001b[0m \u001b[0;34m\u001b[0m\u001b[0m\n\u001b[0;32m--> 107\u001b[0;31m                 \u001b[0mp\u001b[0m\u001b[0;34m.\u001b[0m\u001b[0mdata\u001b[0m\u001b[0;34m.\u001b[0m\u001b[0madd_\u001b[0m\u001b[0;34m(\u001b[0m\u001b[0;34m-\u001b[0m\u001b[0mgroup\u001b[0m\u001b[0;34m[\u001b[0m\u001b[0;34m'lr'\u001b[0m\u001b[0;34m]\u001b[0m\u001b[0;34m,\u001b[0m \u001b[0md_p\u001b[0m\u001b[0;34m)\u001b[0m\u001b[0;34m\u001b[0m\u001b[0m\n\u001b[0m\u001b[1;32m    108\u001b[0m \u001b[0;34m\u001b[0m\u001b[0m\n\u001b[1;32m    109\u001b[0m         \u001b[0;32mreturn\u001b[0m \u001b[0mloss\u001b[0m\u001b[0;34m\u001b[0m\u001b[0m\n",
      "\u001b[0;31mKeyboardInterrupt\u001b[0m: "
     ]
    }
   ],
   "source": [
    "# Get data\n",
    "features = torch.load('train_nokey_only_solution_feats.pt')\n",
    "observations = torch.load('train_nokey_only_solution_obs.pt')\n",
    "\n",
    "# Training base options\n",
    "base_options = copy.deepcopy(default_options)\n",
    "base_options['n_epochs'] = 400\n",
    "base_options['batch_size'] = 16\n",
    "base_options['start_rate'] = 1e-4\n",
    "base_options['end_rate'] = 1e-6\n",
    "\n",
    "\n",
    "\n",
    "# Gridsearch options\n",
    "param_grid = {'batch_size': [16, 32, 64], \n",
    "              'l_rates' : [(1e-3, 1e-4), (1e-3, 1e-5), (1e-3, 1e-6), (1e-3, 1e-7),\n",
    "                           (1e-4, 1e-5), (1e-4, 1e-6), (1e-4, 1e-7), (1e-5, 1e-6),\n",
    "                           (1e-5, 1e-7), (1e-6, 1e-7)],\n",
    "              'fc1': [16, 32, 64, 128],\n",
    "              'fc2': [16, 32, 64, 128],\n",
    "             }\n",
    "\n",
    "# preprocess\n",
    "features = preprocessFeatures(features)\n",
    "observations = preprocessObservations(observations)\n",
    "\n",
    "# Run gridsearch\n",
    "results = []\n",
    "for i, params in enumerate(ParameterGrid(param_grid)):\n",
    "    if i % 10 == 9: print(i+1)\n",
    "    current_options = copy.deepcopy(base_options)\n",
    "    # Set params\n",
    "    current_options['batch_size'] = params['batch_size']\n",
    "    current_options['start_rate'] = params['l_rates'][0]\n",
    "    current_options['end_rate'] = params['l_rates'][1]\n",
    "    model = FCN(params['fc1'], params['fc2'])\n",
    "    \n",
    "    # Run K-fold\n",
    "    results.append((kfoldValidation(features, observations, current_options, model), current_options))\n",
    "    \n",
    "# Print results\n",
    "print(sorted(results, key=lambda x : x[0], reverse=True)[:10])"
   ]
  },
  {
   "cell_type": "markdown",
   "metadata": {},
   "source": [
    "### Single K-fold test"
   ]
  },
  {
   "cell_type": "code",
   "execution_count": 114,
   "metadata": {},
   "outputs": [
    {
     "name": "stdout",
     "output_type": "stream",
     "text": [
      "(0.9618216724693776, {'n_epochs': 400, 'batch_size': 16, 'start_rate': 0.0001, 'end_rate': 1e-06, 'clip_gradient_norm': 0.01, 'loss_fn': MSELoss(), 'verbose': False, 'fcn_i': (128, 32)})\n",
      "(0.9662183678150175, {'n_epochs': 400, 'batch_size': 16, 'start_rate': 0.0001, 'end_rate': 1e-06, 'clip_gradient_norm': 0.01, 'loss_fn': MSELoss(), 'verbose': False, 'fcn_i': (128, 64)})\n",
      "(1.009751491546631, {'n_epochs': 400, 'batch_size': 16, 'start_rate': 0.0001, 'end_rate': 1e-06, 'clip_gradient_norm': 0.01, 'loss_fn': MSELoss(), 'verbose': False, 'fcn_i': (128, 128)})\n",
      "(1.024035993695259, {'n_epochs': 400, 'batch_size': 16, 'start_rate': 0.0001, 'end_rate': 1e-06, 'clip_gradient_norm': 0.01, 'loss_fn': MSELoss(), 'verbose': False, 'fcn_i': (64, 32)})\n",
      "(1.1157941100001334, {'n_epochs': 400, 'batch_size': 16, 'start_rate': 0.0001, 'end_rate': 1e-06, 'clip_gradient_norm': 0.01, 'loss_fn': MSELoss(), 'verbose': False, 'fcn_i': (32, 32)})\n",
      "(1.1432155785560607, {'n_epochs': 400, 'batch_size': 16, 'start_rate': 0.0001, 'end_rate': 1e-06, 'clip_gradient_norm': 0.01, 'loss_fn': MSELoss(), 'verbose': False, 'fcn_i': (64, 64)})\n"
     ]
    }
   ],
   "source": [
    "# Get data\n",
    "features = torch.load('train_nokey_only_solution_feats.pt')\n",
    "observations = torch.load('train_nokey_only_solution_obs.pt')\n",
    "\n",
    "# Training base options\n",
    "base_options = copy.deepcopy(default_options)\n",
    "base_options['n_epochs'] = 400\n",
    "base_options['batch_size'] = 16\n",
    "base_options['start_rate'] = 1e-4\n",
    "base_options['end_rate'] = 1e-6\n",
    "\n",
    "\n",
    "\n",
    "# Gridsearch options\n",
    "param_grid = {'fcn_i' : [(128, 128), (128, 64), (128, 32), (64, 64),\n",
    "                           (64, 32), (32, 32)]\n",
    "             }\n",
    "\n",
    "# preprocess\n",
    "features = preprocessFeatures(features)\n",
    "observations = preprocessObservations(observations)\n",
    "\n",
    "# Run gridsearch\n",
    "results = []\n",
    "for i, params in enumerate(ParameterGrid(param_grid)):\n",
    "    current_options = copy.deepcopy(base_options)\n",
    "    current_options['fcn_i'] = params['fcn_i']\n",
    "    # Set params\n",
    "#     current_options['batch_size'] = params['batch_size']\n",
    "#     current_options['start_rate'] = params['l_rates'][0]\n",
    "#     current_options['end_rate'] = params['l_rates'][1]\n",
    "    model = FCN(128, 32)\n",
    "    \n",
    "    # Run K-fold\n",
    "    results.append((kfoldValidation(features, observations, current_options, model), current_options))\n",
    "    \n",
    "# Print results\n",
    "for l in sorted(results, key=lambda x : x[0]):\n",
    "    print(l)\n",
    "# print(sorted(results, key=lambda x : x[0]))"
   ]
  },
  {
   "cell_type": "code",
   "execution_count": null,
   "metadata": {},
   "outputs": [],
   "source": []
  },
  {
   "cell_type": "code",
   "execution_count": null,
   "metadata": {},
   "outputs": [],
   "source": []
  },
  {
   "cell_type": "code",
   "execution_count": 129,
   "metadata": {
    "scrolled": true
   },
   "outputs": [],
   "source": [
    "# Get data\n",
    "features = torch.load('train_nokey_only_solution_feats.pt')\n",
    "observations = torch.load('train_nokey_only_solution_obs.pt')\n",
    "\n",
    "# Training options\n",
    "# options = Options(n_epochs=400, batch_size=32, start_rate=1e-3, end_rate=1e-5, clip_gradient_norm=None, verbose=True)\n",
    "# Training base options\n",
    "base_options = copy.deepcopy(default_options)\n",
    "base_options['n_epochs'] = 400\n",
    "base_options['batch_size'] = 16\n",
    "base_options['start_rate'] = 1e-4\n",
    "base_options['end_rate'] = 1e-6\n",
    "\n",
    "# preprocess\n",
    "features = preprocessFeatures(features)\n",
    "observations = preprocessObservations(observations)\n",
    "\n",
    "# Split into train/test\n",
    "indices = np.random.permutation(features.shape[0])\n",
    "training_idx, validation_idx = indices[:80], indices[80:]\n",
    "train_features, validation_features = features[training_idx,:], features[validation_idx,:]\n",
    "train_observations, validation_observations = observations[training_idx,:], observations[validation_idx,:]\n",
    "\n",
    "# device and model\n",
    "device = torch.device(\"cuda:0\")\n",
    "model = DisNetCNN()\n",
    "# model = FCN(128, 32)\n",
    "\n",
    "# Create dataloaders\n",
    "train_loader = getDataLoader(train_features, train_observations, base_options['batch_size'])\n",
    "validation_loader = getDataLoader(validation_features, validation_observations,  base_options['batch_size'])\n",
    "\n",
    "loss_values, model = train(model, device, train_loader, validation_loader, base_options)"
   ]
  },
  {
   "cell_type": "code",
   "execution_count": 130,
   "metadata": {},
   "outputs": [
    {
     "data": {
      "text/plain": [
       "[<matplotlib.lines.Line2D at 0x7f068d9003c8>]"
      ]
     },
     "execution_count": 130,
     "metadata": {},
     "output_type": "execute_result"
    },
    {
     "data": {
      "image/png": "[encoded data removed]",
      "text/plain": [
       "<Figure size 432x288 with 1 Axes>"
      ]
     },
     "metadata": {},
     "output_type": "display_data"
    }
   ],
   "source": [
    "# plt.plot(loss_values)\n",
    "window_size = 10\n",
    "plt.plot(smooth([l[0] for l in loss_values], window_size)[window_size:-window_size], 'g')\n",
    "plt.plot(smooth([l[1] for l in loss_values], window_size)[window_size:-window_size], 'r')"
   ]
  },
  {
   "cell_type": "code",
   "execution_count": 236,
   "metadata": {},
   "outputs": [
    {
     "name": "stdout",
     "output_type": "stream",
     "text": [
      "tensor([[0.]], device='cuda:0', grad_fn=<FeatureDropoutBackward>)\n",
      "tensor([[3.3673]])\n"
     ]
    }
   ],
   "source": [
    "device = torch.device(\"cuda:0\")\n",
    "index = 1208\n",
    "f = preprocessFeatures(feats)[index:index+1].to(device)\n",
    "o = preprocessObservations(obs)[index:index+1]\n",
    "print(model(f))\n",
    "print(o)"
   ]
  },
  {
   "cell_type": "code",
   "execution_count": 172,
   "metadata": {},
   "outputs": [
    {
     "ename": "RuntimeError",
     "evalue": "Input type (torch.cuda.FloatTensor) and weight type (torch.FloatTensor) should be the same",
     "output_type": "error",
     "traceback": [
      "\u001b[0;31m---------------------------------------------------------------------------\u001b[0m",
      "\u001b[0;31mRuntimeError\u001b[0m                              Traceback (most recent call last)",
      "\u001b[0;32m<ipython-input-172-c339a1b77006>\u001b[0m in \u001b[0;36m<module>\u001b[0;34m()\u001b[0m\n\u001b[0;32m----> 1\u001b[0;31m \u001b[0msummary\u001b[0m\u001b[0;34m(\u001b[0m\u001b[0mmodel\u001b[0m\u001b[0;34m,\u001b[0m \u001b[0;34m(\u001b[0m\u001b[0;36m2\u001b[0m\u001b[0;34m,\u001b[0m \u001b[0;36m40\u001b[0m\u001b[0;34m,\u001b[0m \u001b[0;36m40\u001b[0m\u001b[0;34m)\u001b[0m\u001b[0;34m)\u001b[0m\u001b[0;34m\u001b[0m\u001b[0m\n\u001b[0m",
      "\u001b[0;32m~/anaconda3/envs/deep-learning/lib/python3.6/site-packages/torchsummary/torchsummary.py\u001b[0m in \u001b[0;36msummary\u001b[0;34m(model, input_size, batch_size, device)\u001b[0m\n\u001b[1;32m     70\u001b[0m     \u001b[0;31m# make a forward pass\u001b[0m\u001b[0;34m\u001b[0m\u001b[0;34m\u001b[0m\u001b[0m\n\u001b[1;32m     71\u001b[0m     \u001b[0;31m# print(x.shape)\u001b[0m\u001b[0;34m\u001b[0m\u001b[0;34m\u001b[0m\u001b[0m\n\u001b[0;32m---> 72\u001b[0;31m     \u001b[0mmodel\u001b[0m\u001b[0;34m(\u001b[0m\u001b[0;34m*\u001b[0m\u001b[0mx\u001b[0m\u001b[0;34m)\u001b[0m\u001b[0;34m\u001b[0m\u001b[0m\n\u001b[0m\u001b[1;32m     73\u001b[0m \u001b[0;34m\u001b[0m\u001b[0m\n\u001b[1;32m     74\u001b[0m     \u001b[0;31m# remove these hooks\u001b[0m\u001b[0;34m\u001b[0m\u001b[0;34m\u001b[0m\u001b[0m\n",
      "\u001b[0;32m~/anaconda3/envs/deep-learning/lib/python3.6/site-packages/torch/nn/modules/module.py\u001b[0m in \u001b[0;36m__call__\u001b[0;34m(self, *input, **kwargs)\u001b[0m\n\u001b[1;32m    475\u001b[0m             \u001b[0mresult\u001b[0m \u001b[0;34m=\u001b[0m \u001b[0mself\u001b[0m\u001b[0;34m.\u001b[0m\u001b[0m_slow_forward\u001b[0m\u001b[0;34m(\u001b[0m\u001b[0;34m*\u001b[0m\u001b[0minput\u001b[0m\u001b[0;34m,\u001b[0m \u001b[0;34m**\u001b[0m\u001b[0mkwargs\u001b[0m\u001b[0;34m)\u001b[0m\u001b[0;34m\u001b[0m\u001b[0m\n\u001b[1;32m    476\u001b[0m         \u001b[0;32melse\u001b[0m\u001b[0;34m:\u001b[0m\u001b[0;34m\u001b[0m\u001b[0m\n\u001b[0;32m--> 477\u001b[0;31m             \u001b[0mresult\u001b[0m \u001b[0;34m=\u001b[0m \u001b[0mself\u001b[0m\u001b[0;34m.\u001b[0m\u001b[0mforward\u001b[0m\u001b[0;34m(\u001b[0m\u001b[0;34m*\u001b[0m\u001b[0minput\u001b[0m\u001b[0;34m,\u001b[0m \u001b[0;34m**\u001b[0m\u001b[0mkwargs\u001b[0m\u001b[0;34m)\u001b[0m\u001b[0;34m\u001b[0m\u001b[0m\n\u001b[0m\u001b[1;32m    478\u001b[0m         \u001b[0;32mfor\u001b[0m \u001b[0mhook\u001b[0m \u001b[0;32min\u001b[0m \u001b[0mself\u001b[0m\u001b[0;34m.\u001b[0m\u001b[0m_forward_hooks\u001b[0m\u001b[0;34m.\u001b[0m\u001b[0mvalues\u001b[0m\u001b[0;34m(\u001b[0m\u001b[0;34m)\u001b[0m\u001b[0;34m:\u001b[0m\u001b[0;34m\u001b[0m\u001b[0m\n\u001b[1;32m    479\u001b[0m             \u001b[0mhook_result\u001b[0m \u001b[0;34m=\u001b[0m \u001b[0mhook\u001b[0m\u001b[0;34m(\u001b[0m\u001b[0mself\u001b[0m\u001b[0;34m,\u001b[0m \u001b[0minput\u001b[0m\u001b[0;34m,\u001b[0m \u001b[0mresult\u001b[0m\u001b[0;34m)\u001b[0m\u001b[0;34m\u001b[0m\u001b[0m\n",
      "\u001b[0;32m<ipython-input-39-dd353fc89653>\u001b[0m in \u001b[0;36mforward\u001b[0;34m(self, x)\u001b[0m\n\u001b[1;32m     16\u001b[0m \u001b[0;34m\u001b[0m\u001b[0m\n\u001b[1;32m     17\u001b[0m     \u001b[0;32mdef\u001b[0m \u001b[0mforward\u001b[0m\u001b[0;34m(\u001b[0m\u001b[0mself\u001b[0m\u001b[0;34m,\u001b[0m \u001b[0mx\u001b[0m\u001b[0;34m)\u001b[0m\u001b[0;34m:\u001b[0m\u001b[0;34m\u001b[0m\u001b[0m\n\u001b[0;32m---> 18\u001b[0;31m         \u001b[0mx\u001b[0m \u001b[0;34m=\u001b[0m \u001b[0mself\u001b[0m\u001b[0;34m.\u001b[0m\u001b[0mmaxPool\u001b[0m\u001b[0;34m(\u001b[0m\u001b[0mF\u001b[0m\u001b[0;34m.\u001b[0m\u001b[0mrelu\u001b[0m\u001b[0;34m(\u001b[0m\u001b[0mself\u001b[0m\u001b[0;34m.\u001b[0m\u001b[0mconv1\u001b[0m\u001b[0;34m(\u001b[0m\u001b[0mx\u001b[0m\u001b[0;34m)\u001b[0m\u001b[0;34m)\u001b[0m\u001b[0;34m)\u001b[0m\u001b[0;34m\u001b[0m\u001b[0m\n\u001b[0m\u001b[1;32m     19\u001b[0m         \u001b[0mx\u001b[0m \u001b[0;34m=\u001b[0m \u001b[0mself\u001b[0m\u001b[0;34m.\u001b[0m\u001b[0mmaxPool\u001b[0m\u001b[0;34m(\u001b[0m\u001b[0mF\u001b[0m\u001b[0;34m.\u001b[0m\u001b[0mrelu\u001b[0m\u001b[0;34m(\u001b[0m\u001b[0mself\u001b[0m\u001b[0;34m.\u001b[0m\u001b[0mconv2\u001b[0m\u001b[0;34m(\u001b[0m\u001b[0mx\u001b[0m\u001b[0;34m)\u001b[0m\u001b[0;34m)\u001b[0m\u001b[0;34m)\u001b[0m\u001b[0;34m\u001b[0m\u001b[0m\n\u001b[1;32m     20\u001b[0m         \u001b[0mx\u001b[0m \u001b[0;34m=\u001b[0m \u001b[0mx\u001b[0m\u001b[0;34m.\u001b[0m\u001b[0mview\u001b[0m\u001b[0;34m(\u001b[0m\u001b[0;34m-\u001b[0m\u001b[0;36m1\u001b[0m\u001b[0;34m,\u001b[0m \u001b[0mself\u001b[0m\u001b[0;34m.\u001b[0m\u001b[0mnum_flat_features\u001b[0m\u001b[0;34m(\u001b[0m\u001b[0mx\u001b[0m\u001b[0;34m)\u001b[0m\u001b[0;34m)\u001b[0m\u001b[0;34m\u001b[0m\u001b[0m\n",
      "\u001b[0;32m~/anaconda3/envs/deep-learning/lib/python3.6/site-packages/torch/nn/modules/module.py\u001b[0m in \u001b[0;36m__call__\u001b[0;34m(self, *input, **kwargs)\u001b[0m\n\u001b[1;32m    475\u001b[0m             \u001b[0mresult\u001b[0m \u001b[0;34m=\u001b[0m \u001b[0mself\u001b[0m\u001b[0;34m.\u001b[0m\u001b[0m_slow_forward\u001b[0m\u001b[0;34m(\u001b[0m\u001b[0;34m*\u001b[0m\u001b[0minput\u001b[0m\u001b[0;34m,\u001b[0m \u001b[0;34m**\u001b[0m\u001b[0mkwargs\u001b[0m\u001b[0;34m)\u001b[0m\u001b[0;34m\u001b[0m\u001b[0m\n\u001b[1;32m    476\u001b[0m         \u001b[0;32melse\u001b[0m\u001b[0;34m:\u001b[0m\u001b[0;34m\u001b[0m\u001b[0m\n\u001b[0;32m--> 477\u001b[0;31m             \u001b[0mresult\u001b[0m \u001b[0;34m=\u001b[0m \u001b[0mself\u001b[0m\u001b[0;34m.\u001b[0m\u001b[0mforward\u001b[0m\u001b[0;34m(\u001b[0m\u001b[0;34m*\u001b[0m\u001b[0minput\u001b[0m\u001b[0;34m,\u001b[0m \u001b[0;34m**\u001b[0m\u001b[0mkwargs\u001b[0m\u001b[0;34m)\u001b[0m\u001b[0;34m\u001b[0m\u001b[0m\n\u001b[0m\u001b[1;32m    478\u001b[0m         \u001b[0;32mfor\u001b[0m \u001b[0mhook\u001b[0m \u001b[0;32min\u001b[0m \u001b[0mself\u001b[0m\u001b[0;34m.\u001b[0m\u001b[0m_forward_hooks\u001b[0m\u001b[0;34m.\u001b[0m\u001b[0mvalues\u001b[0m\u001b[0;34m(\u001b[0m\u001b[0;34m)\u001b[0m\u001b[0;34m:\u001b[0m\u001b[0;34m\u001b[0m\u001b[0m\n\u001b[1;32m    479\u001b[0m             \u001b[0mhook_result\u001b[0m \u001b[0;34m=\u001b[0m \u001b[0mhook\u001b[0m\u001b[0;34m(\u001b[0m\u001b[0mself\u001b[0m\u001b[0;34m,\u001b[0m \u001b[0minput\u001b[0m\u001b[0;34m,\u001b[0m \u001b[0mresult\u001b[0m\u001b[0;34m)\u001b[0m\u001b[0;34m\u001b[0m\u001b[0m\n",
      "\u001b[0;32m~/anaconda3/envs/deep-learning/lib/python3.6/site-packages/torch/nn/modules/conv.py\u001b[0m in \u001b[0;36mforward\u001b[0;34m(self, input)\u001b[0m\n\u001b[1;32m    299\u001b[0m     \u001b[0;32mdef\u001b[0m \u001b[0mforward\u001b[0m\u001b[0;34m(\u001b[0m\u001b[0mself\u001b[0m\u001b[0;34m,\u001b[0m \u001b[0minput\u001b[0m\u001b[0;34m)\u001b[0m\u001b[0;34m:\u001b[0m\u001b[0;34m\u001b[0m\u001b[0m\n\u001b[1;32m    300\u001b[0m         return F.conv2d(input, self.weight, self.bias, self.stride,\n\u001b[0;32m--> 301\u001b[0;31m                         self.padding, self.dilation, self.groups)\n\u001b[0m\u001b[1;32m    302\u001b[0m \u001b[0;34m\u001b[0m\u001b[0m\n\u001b[1;32m    303\u001b[0m \u001b[0;34m\u001b[0m\u001b[0m\n",
      "\u001b[0;31mRuntimeError\u001b[0m: Input type (torch.cuda.FloatTensor) and weight type (torch.FloatTensor) should be the same"
     ]
    }
   ],
   "source": [
    "summary(model, (2, 40, 40))"
   ]
  },
  {
   "cell_type": "code",
   "execution_count": 11,
   "metadata": {},
   "outputs": [],
   "source": [
    "\n",
    "# feats, obs = dataGatherOnlyObservedSolutions()\n",
    "# torch.save(feats, 'train_nokey_only_solution_feats.pt')\n",
    "# torch.save(obs, 'train_nokey_only_solution_obs.pt')"
   ]
  },
  {
   "cell_type": "code",
   "execution_count": 158,
   "metadata": {},
   "outputs": [
    {
     "name": "stdout",
     "output_type": "stream",
     "text": [
      "torch.Size([3960, 2, 40, 40])\n",
      "torch.Size([3960, 1])\n"
     ]
    }
   ],
   "source": [
    "feats = torch.load('train_nokey_only_solution_feats.pt')\n",
    "obs = torch.load('train_nokey_only_solution_obs.pt')\n",
    "print(feats.shape)\n",
    "print(obs.shape)"
   ]
  },
  {
   "cell_type": "code",
   "execution_count": null,
   "metadata": {},
   "outputs": [],
   "source": []
  },
  {
   "cell_type": "code",
   "execution_count": null,
   "metadata": {
    "scrolled": true
   },
   "outputs": [],
   "source": []
  },
  {
   "cell_type": "code",
   "execution_count": 77,
   "metadata": {},
   "outputs": [
    {
     "data": {
      "text/plain": [
       "tensor([[[[0.2014, 0.8822, 0.1140, 0.8369],\n",
       "          [0.2918, 0.7020, 0.7541, 0.3556],\n",
       "          [0.5786, 0.8386, 0.7378, 0.5152],\n",
       "          [0.9454, 0.2910, 0.9145, 0.5884]],\n",
       "\n",
       "         [[0.7923, 0.7909, 0.1098, 0.3195],\n",
       "          [0.4803, 0.4007, 0.6035, 0.5743],\n",
       "          [0.0171, 0.2761, 0.9388, 0.6652],\n",
       "          [0.5459, 0.6032, 0.4494, 0.3658]]],\n",
       "\n",
       "\n",
       "        [[[0.7770, 0.7051, 0.3316, 0.8457],\n",
       "          [0.2978, 0.7117, 0.1090, 0.3297],\n",
       "          [0.6302, 0.1306, 0.3089, 0.6453],\n",
       "          [0.1877, 0.4400, 0.6960, 0.0021]],\n",
       "\n",
       "         [[0.6115, 0.4842, 0.6426, 0.3837],\n",
       "          [0.9901, 0.3421, 0.5447, 0.2467],\n",
       "          [0.8325, 0.7696, 0.2741, 0.2561],\n",
       "          [0.2276, 0.2711, 0.4679, 0.4610]]],\n",
       "\n",
       "\n",
       "        [[[0.3534, 0.6828, 0.2816, 0.1926],\n",
       "          [0.4594, 0.9886, 0.3416, 0.1624],\n",
       "          [0.8285, 0.4373, 0.4972, 0.4604],\n",
       "          [0.5750, 0.9687, 0.7848, 0.4529]],\n",
       "\n",
       "         [[0.0018, 0.5595, 0.9077, 0.3239],\n",
       "          [0.2525, 0.5788, 0.6479, 0.9415],\n",
       "          [0.1342, 0.4970, 0.3793, 0.4762],\n",
       "          [0.9580, 0.2871, 0.8233, 0.8228]]]])"
      ]
     },
     "execution_count": 77,
     "metadata": {},
     "output_type": "execute_result"
    }
   ],
   "source": [
    "permTempFeats"
   ]
  },
  {
   "cell_type": "code",
   "execution_count": 78,
   "metadata": {},
   "outputs": [
    {
     "name": "stdout",
     "output_type": "stream",
     "text": [
      "torch.Size([2, 4, 4, 3])\n",
      "torch.Size([2, 48])\n",
      "tensor([0.5242, 0.5069])\n",
      "tensor([0.2678, 0.2553])\n",
      "tensor([[[[-1.2056,  1.3370, -1.5320,  1.1678],\n",
      "          [-0.8682,  0.6639,  0.8585, -0.6299],\n",
      "          [ 0.2030,  1.1740,  0.7977, -0.0338],\n",
      "          [ 1.5730, -0.8710,  1.4576,  0.2395]],\n",
      "\n",
      "         [[ 1.1182,  1.1127, -1.5556, -0.7341],\n",
      "          [-0.1041, -0.4160,  0.3785,  0.2643],\n",
      "          [-1.9189, -0.9039,  1.6920,  0.6203],\n",
      "          [ 0.1530,  0.3772, -0.2251, -0.5525]]],\n",
      "\n",
      "\n",
      "        [[[ 0.9440,  0.6756, -0.7194,  1.2005],\n",
      "          [-0.8456,  0.7002, -1.5508, -0.7266],\n",
      "          [ 0.3958, -1.4700, -0.8040,  0.4520],\n",
      "          [-1.2569, -0.3144,  0.6414, -1.9500]],\n",
      "\n",
      "         [[ 0.4101, -0.0887,  0.5317, -0.4824],\n",
      "          [ 1.8931, -0.6453,  0.1483, -1.0191],\n",
      "          [ 1.2756,  1.0292, -0.9119, -0.9826],\n",
      "          [-1.0943, -0.9238, -0.1526, -0.1799]]],\n",
      "\n",
      "\n",
      "        [[[-0.6380,  0.5920, -0.9061, -1.2384],\n",
      "          [-0.2422,  1.7343, -0.6820, -1.3513],\n",
      "          [ 1.1363, -0.3245, -0.1009, -0.2385],\n",
      "          [ 0.1898,  1.6601,  0.9729, -0.2665]],\n",
      "\n",
      "         [[-1.9786,  0.2064,  1.5704, -0.7167],\n",
      "          [-0.9967,  0.2819,  0.5525,  1.7027],\n",
      "          [-1.4601, -0.0385, -0.4999, -0.1201],\n",
      "          [ 1.7673, -0.8612,  1.2397,  1.2376]]]])\n"
     ]
    }
   ],
   "source": [
    "temp1 = preprocessFeatures(permTempFeats)\n",
    "print(temp1)"
   ]
  },
  {
   "cell_type": "code",
   "execution_count": 52,
   "metadata": {},
   "outputs": [
    {
     "data": {
      "text/plain": [
       "0.52423125"
      ]
     },
     "execution_count": 52,
     "metadata": {},
     "output_type": "execute_result"
    }
   ],
   "source": [
    "temp1 = [0.2014, 0.8822, 0.1140, 0.8369, 0.2918, 0.7020, 0.7541, 0.3556, 0.5786, 0.8386, 0.7378, 0.5152, 0.9454, 0.2910, 0.9145, 0.5884, \\\n",
    "0.7770, 0.7051, 0.3316, 0.8457, 0.2978, 0.7117, 0.1090, 0.3297, 0.6302, 0.1306, 0.3089, 0.6453, 0.1877, 0.4400, 0.6960, 0.0021, \\\n",
    "0.3534, 0.6828, 0.2816, 0.1926, 0.4594, 0.9886, 0.3416, 0.1624, 0.8285, 0.4373, 0.4972, 0.4604, 0.5750, 0.9687, 0.7848, 0.4529]\n",
    "sum(temp1) / len(temp1)"
   ]
  },
  {
   "cell_type": "code",
   "execution_count": 64,
   "metadata": {},
   "outputs": [
    {
     "ename": "TypeError",
     "evalue": "__init__() missing 2 required positional arguments: 'mean' and 'std'",
     "output_type": "error",
     "traceback": [
      "\u001b[0;31m---------------------------------------------------------------------------\u001b[0m",
      "\u001b[0;31mTypeError\u001b[0m                                 Traceback (most recent call last)",
      "\u001b[0;32m<ipython-input-64-02175ba2ce41>\u001b[0m in \u001b[0;36m<module>\u001b[0;34m()\u001b[0m\n\u001b[0;32m----> 1\u001b[0;31m \u001b[0mtransform\u001b[0m \u001b[0;34m=\u001b[0m \u001b[0mtransforms\u001b[0m\u001b[0;34m.\u001b[0m\u001b[0mNormalize\u001b[0m\u001b[0;34m(\u001b[0m\u001b[0;34m)\u001b[0m\u001b[0;34m\u001b[0m\u001b[0m\n\u001b[0m",
      "\u001b[0;31mTypeError\u001b[0m: __init__() missing 2 required positional arguments: 'mean' and 'std'"
     ]
    }
   ],
   "source": [
    "transform = transforms.Normalize()"
   ]
  },
  {
   "cell_type": "code",
   "execution_count": null,
   "metadata": {},
   "outputs": [],
   "source": []
  }
 ],
 "metadata": {
  "kernelspec": {
   "display_name": "Python (deep-learning)",
   "language": "python",
   "name": "deep-learning"
  },
  "language_info": {
   "codemirror_mode": {
    "name": "ipython",
    "version": 3
   },
   "file_extension": ".py",
   "mimetype": "text/x-python",
   "name": "python",
   "nbconvert_exporter": "python",
   "pygments_lexer": "ipython3",
   "version": "3.6.5"
  }
 },
 "nbformat": 4,
 "nbformat_minor": 2
}
